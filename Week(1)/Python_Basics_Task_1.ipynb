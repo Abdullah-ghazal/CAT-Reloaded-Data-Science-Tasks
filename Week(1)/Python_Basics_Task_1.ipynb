{
  "cells": [
    {
      "cell_type": "markdown",
      "metadata": {
        "id": "KYy2_-Hh5ZnF"
      },
      "source": [
        "<h1 style=\"text-align: center; font-family: 'Cairo', sans-serif; font-weight: bold; background-color: white;\">\n",
        "    <span style=\"color: #C41E3A;\">CAT</span>\n",
        "    <span style=\"color: #003153;\">Reloaded</span>\n",
        "</h1>"
      ]
    },
    {
      "cell_type": "markdown",
      "metadata": {
        "id": "vSv_kqI2dQq3"
      },
      "source": [
        "<div style=\"\n",
        "    font-family: 'Cairo', sans-serif;\n",
        "    background-color: rgba(77, 77, 77, 0.8);\n",
        "    padding: 20px;\n",
        "    border-radius: 5px;\n",
        "    margin: 20px 0;\n",
        "    font-size: 18px;\n",
        "\">\n",
        "    <p style=\"text-align: justify; line-height: 1; margin-bottom: 20px; color:rgb(255, 255, 255); font-weight: bold;\">\n",
        "        This task is about Python basics. It is divided into three main parts:\n",
        "        <ol style=\"color:white; list-style-type: disc; margin-left: 10px; margin-bottom: 20px; line-height: 1.5;\">\n",
        "            <li>Multiple Choice Questions</li>\n",
        "            <li>Code Snippets</li>\n",
        "            <li>Problem Solving</li>\n",
        "        </ol>\n",
        "    </p>\n",
        "    <p style=\"text-align: justify; line-height: 1.5; color:rgb(255, 255, 255); font-weight: bold;\">\n",
        "        To answer a question, make a markdown cell below the question and write the answer in it with the answer letter. For code questions, write the code that solves the problem.\n",
        "    </p>\n",
        "</div>"
      ]
    },
    {
      "cell_type": "markdown",
      "metadata": {
        "id": "eygnrXtwJYwb"
      },
      "source": [
        "<h1 style=\"font-family: 'Cairo', sans-serif;\">\n",
        "    <strong>1. MCQ</strong> 📝\n",
        "</h1>"
      ]
    },
    {
      "cell_type": "markdown",
      "metadata": {
        "id": "AaeNYlR1JaKW"
      },
      "source": [
        "<h4 style=\"\n",
        "    font-family: 'Cairo', sans-serif;\n",
        "    color: #003153;\n",
        "    text-align: justify;\n",
        "    line-height: 1.6;\n",
        "    background-color: white;\n",
        "    padding: 15px;\n",
        "    border-left: 4px solid #C41E3A;\n",
        "    margin: 20px 0;\n",
        "\">\n",
        "1) Which of these are <strong>valid</strong> variable names:</h4>\n",
        "\n",
        "<div style=\"font-family: 'Cairo', sans-serif; padding: 20px;\">\n",
        "        <ul style=\"list-style-type: lower-alpha; padding-left: 40px;\">\n",
        "            <li style=\"margin-bottom: 9px;\"><input type=\"checkbox\" name=\"question-a\"> <code>CandyType1</code> </li>\n",
        "            <li style=\"margin-bottom: 9px;\"><input type=\"checkbox\" name=\"question-a\"><code>candy type 1</code></li>\n",
        "            <li style=\"margin-bottom: 9px;\"><input type=\"checkbox\" name=\"question-a\"><code>candy$type$1</code></li>\n",
        "            <li style=\"margin-bottom: 9px;\"><input type=\"checkbox\" name=\"question-a\"><code>1_candy_type</code></li>\n",
        "            <li style=\"margin-bottom: 9px;\"><input type=\"checkbox\" name=\"question-a\"><code>c</code></li>\n",
        "        </ul>\n",
        "        </div>"
      ]
    },
    {
      "cell_type": "markdown",
      "metadata": {
        "id": "WDhys1bNJaFW"
      },
      "source": [
        "<h4 style=\"\n",
        "    font-family: 'Cairo', sans-serif;\n",
        "    color: #003153;\n",
        "    text-align: justify;\n",
        "    line-height: 1.6;\n",
        "    background-color: white;\n",
        "    padding: 15px;\n",
        "    border-left: 4px solid #C41E3A;\n",
        "    margin: 20px 0;\n",
        "\">\n",
        "2) Which of these can be an <strong>if-statement</strong> condition:</h4>\n",
        "\n",
        "<div style=\"font-family: 'Cairo', sans-serif; padding: 20px;\">\n",
        "    <ul style=\"list-style-type: lower-alpha; padding-left: 40px;\">\n",
        "        <li style=\"margin-bottom: 9px;\"><input type=\"checkbox\" name=\"question-a\"> <code>n > 100 and < 500</code></li>\n",
        "        <li style=\"margin-bottom: 9px;\"><input type=\"checkbox\" name=\"question-a\"> <code>n > 100 and n < 500</code></li>\n",
        "        <li style=\"margin-bottom: 9px;\"><input type=\"checkbox\" name=\"question-a\"> <code>100 < n < 500</code></li>\n",
        "    </ul>\n",
        "</div>"
      ]
    },
    {
      "cell_type": "markdown",
      "metadata": {
        "id": "ta6oGEEaJuUf"
      },
      "source": [
        "<h4 style=\"\n",
        "    font-family: 'Cairo', sans-serif;\n",
        "    color: #003153;\n",
        "    text-align: justify;\n",
        "    line-height: 1.6;\n",
        "    background-color: white;\n",
        "    padding: 15px;\n",
        "    border-left: 4px solid #C41E3A;\n",
        "    margin: 20px 0;\n",
        "\">\n",
        "3) Mark down all the <strong>valid</strong> function-calls for this function:</h4>\n",
        "\n",
        "<pre style=\"\n",
        "    background-color: #f5f5f5;\n",
        "    padding: 10px;\n",
        "    border-radius: 5px;\n",
        "    margin: 10px 0;\n",
        "    color: #000000\n",
        "\">\n",
        "def fun1(name, age):\n",
        "    return(name,age)\n",
        "</pre>\n",
        "\n",
        "<div style=\"font-family: 'Cairo', sans-serif; padding: 20px;\">\n",
        "    <ul style=\"list-style-type: lower-alpha; padding-left: 40px;\">\n",
        "        <li style=\"margin-bottom: 9px;\"><input type=\"checkbox\" name=\"question-a\"> <code>fun1(\"Emma\", 23)</code></li>\n",
        "        <li style=\"margin-bottom: 9px;\"><input type=\"checkbox\" name=\"question-a\"> <code>fun1(age=23, name=\"Emma\")</code></li>\n",
        "        <li style=\"margin-bottom: 9px;\"><input type=\"checkbox\" name=\"question-a\"> <code>fun1(\"Emma\", age=23)</code></li>\n",
        "        <li style=\"margin-bottom: 9px;\"><input type=\"checkbox\" name=\"question-a\"> <code>fun1(name=\"Emma\", 23)</code></li>\n",
        "        <li style=\"margin-bottom: 9px;\"><input type=\"checkbox\" name=\"question-a\"> <code>fun1(age=23, \"Emma\")</code></li>\n",
        "    </ul>\n",
        "</div>"
      ]
    },
    {
      "cell_type": "markdown",
      "metadata": {
        "id": "dnz8OoGxTwGV"
      },
      "source": [
        "<h4 style=\"\n",
        "    font-family: 'Cairo', sans-serif;\n",
        "    color: #003153;\n",
        "    text-align: justify;\n",
        "    line-height: 1.6;\n",
        "    background-color: white;\n",
        "    padding: 15px;\n",
        "    border-left: 4px solid #C41E3A;\n",
        "    margin: 20px 0;\n",
        "\">\n",
        "4) Mark down all the <strong>valid</strong> ways to convert <code>A7med</code> to <code>Ahmed</code>:</h4>\n",
        "\n",
        "<pre style=\"\n",
        "    background-color: #f5f5f5;\n",
        "    padding: 10px;\n",
        "    border-radius: 5px;\n",
        "    margin: 10px 0;\n",
        "    color: #000000;\n",
        "\">\n",
        "s = \"My name is A7med\"\n",
        "</pre>\n",
        "\n",
        "<div style=\"font-family: 'Cairo', sans-serif; padding: 20px;\">\n",
        "    <ul style=\"list-style-type: lower-alpha; padding-left: 40px;\">\n",
        "        <li style=\"margin-bottom: 9px;\"><input type=\"checkbox\" name=\"question-a\"> <code>s[12] = \"h\"</code></li>\n",
        "        <li style=\"margin-bottom: 9px;\"><input type=\"checkbox\" name=\"question-a\"> <code>s = s.replace(\"7\",\"h\")</code></li>\n",
        "        <li style=\"margin-bottom: 9px;\"><input type=\"checkbox\" name=\"question-a\"> <code>s = s[:12] + \"h\" + s[13:]</code></li>\n",
        "    </ul>\n",
        "</div>"
      ]
    },
    {
      "cell_type": "markdown",
      "metadata": {
        "id": "7Ial-qpwZL76"
      },
      "source": [
        "<h4 style=\"\n",
        "    font-family: 'Cairo', sans-serif;\n",
        "    color: #003153;\n",
        "    text-align: justify;\n",
        "    line-height: 1.6;\n",
        "    background-color: white;\n",
        "    padding: 15px;\n",
        "    border-left: 4px solid #C41E3A;\n",
        "    margin: 20px 0;\n",
        "\">\n",
        "5) Mark down all the <strong>valid</strong> syntaxes:</h4>\n",
        "\n",
        "<div style=\"font-family: 'Cairo', sans-serif; padding: 20px;\">\n",
        "    <ul style=\"list-style-type: lower-alpha; padding-left: 40px; line-height: 1.6;\">\n",
        "        <li style=\"margin-bottom: 9px;\"><input type=\"checkbox\" name=\"question-a\">\n",
        "            <code>my_list = [\"My\", \"name\", \"is\", \"A7med\"]</code><br>\n",
        "            <code>my_list[3] = \"Ahmed\"</code>\n",
        "        </li>\n",
        "        <li style=\"margin-bottom: 9px;\"><input type=\"checkbox\" name=\"question-a\">\n",
        "            <code>my_tuple = \"My\", \"name\", \"is\", \"A7med\"</code><br>\n",
        "            <code>my_tuple[3] = \"Ahmed\"</code>\n",
        "        </li>\n",
        "        <li style=\"margin-bottom: 9px;\"><input type=\"checkbox\" name=\"question-a\">\n",
        "            <code>my_string = \"My name is A7med\"</code><br>\n",
        "            <code>my_string[12] = \"h\"</code>\n",
        "        </li>\n",
        "    </ul>\n",
        "</div>"
      ]
    },
    {
      "cell_type": "markdown",
      "metadata": {
        "id": "vgNAedcIeCTl"
      },
      "source": [
        "<h4 style=\"\n",
        "    font-family: 'Cairo', sans-serif;\n",
        "    color: #003153;\n",
        "    text-align: justify;\n",
        "    line-height: 1.6;\n",
        "    background-color: white;\n",
        "    padding: 15px;\n",
        "    border-left: 4px solid #C41E3A;\n",
        "    margin: 20px 0;\n",
        "\">\n",
        "6) What is the result of the following boolean expression:</h4>\n",
        "\n",
        "<pre style=\"\n",
        "    background-color: #f5f5f5;\n",
        "    padding: 10px;\n",
        "    border-radius: 5px;\n",
        "    margin: 10px 0;\n",
        "    color: #000000;\n",
        "\">\n",
        "print(\"abdelrahman\" > \"yahia\")\n",
        "</pre>\n",
        "\n",
        "<div style=\"font-family: 'Cairo', sans-serif; padding: 20px;\">\n",
        "    <ul style=\"list-style-type: lower-alpha; padding-left: 40px;\">\n",
        "        <li style=\"margin-bottom: 9px;\"><input type=\"checkbox\" name=\"question-a\"> <code>True</code></li>\n",
        "        <li style=\"margin-bottom: 9px;\"><input type=\"checkbox\" name=\"question-a\"> <code>False</code></li>\n",
        "        <li style=\"margin-bottom: 9px;\"><input type=\"checkbox\" name=\"question-a\"> <code>not valid in python</code></li>\n",
        "    </ul>\n",
        "</div>"
      ]
    },
    {
      "cell_type": "markdown",
      "metadata": {
        "id": "ngDeTcfVe9iz"
      },
      "source": [
        "<h4 style=\"\n",
        "    font-family: 'Cairo', sans-serif;\n",
        "    color: #003153;\n",
        "    text-align: justify;\n",
        "    line-height: 1.6;\n",
        "    background-color: white;\n",
        "    padding: 15px;\n",
        "    border-left: 4px solid #C41E3A;\n",
        "    margin: 20px 0;\n",
        "\">\n",
        "7) What is the result of the following boolean expression:</h4>\n",
        "\n",
        "<pre style=\"\n",
        "    background-color: #f5f5f5;\n",
        "    padding: 10px;\n",
        "    border-radius: 5px;\n",
        "    margin: 10px 0;\n",
        "    color: #000000;\n",
        "\">\n",
        "my_list = [\"ziad\", \"abdelrahman\", \"ali\"]\n",
        "print(max(my_list))\n",
        "</pre>\n",
        "\n",
        "<div style=\"font-family: 'Cairo', sans-serif; padding: 20px;\">\n",
        "    <ul style=\"list-style-type: lower-alpha; padding-left: 40px;\">\n",
        "        <li style=\"margin-bottom: 9px;\"><input type=\"checkbox\" name=\"question-a\"> <code>ziad</code></li>\n",
        "        <li style=\"margin-bottom: 9px;\"><input type=\"checkbox\" name=\"question-a\"> <code>abdelrahman</code></li>\n",
        "        <li style=\"margin-bottom: 9px;\"><input type=\"checkbox\" name=\"question-a\"> <code>ali</code></li>\n",
        "        <li style=\"margin-bottom: 9px;\"><input type=\"checkbox\" name=\"question-a\"> <code>not valid in python</code></li>\n",
        "    </ul>\n",
        "</div>"
      ]
    },
    {
      "cell_type": "markdown",
      "metadata": {
        "id": "NuWMT64F_QP8"
      },
      "source": [
        "<h4 style=\"\n",
        "    font-family: 'Cairo', sans-serif;\n",
        "    color: #003153;\n",
        "    text-align: justify;\n",
        "    line-height: 1.6;\n",
        "    background-color: white;\n",
        "    padding: 15px;\n",
        "    border-left: 4px solid #C41E3A;\n",
        "    margin: 20px 0;\n",
        "\">\n",
        "8) Which of the following list comprehensions creates a list of squares of even numbers from 1 to 10?</h4>\n",
        "\n",
        "<div style=\"font-family: 'Cairo', sans-serif; padding: 20px;\">\n",
        "    <ul style=\"list-style-type: lower-alpha; padding-left: 40px;\">\n",
        "        <li style=\"margin-bottom: 9px;\"><input type=\"checkbox\" name=\"question-a\"> <code>[x ** 2 for x in range(1, 11) if x % 2 == 0]</code></li>\n",
        "        <li style=\"margin-bottom: 9px;\"><input type=\"checkbox\" name=\"question-a\"> <code>[x ** 2 if x % 2 == 0 for x in range(1, 11)]</code></li>\n",
        "        <li style=\"margin-bottom: 9px;\"><input type=\"checkbox\" name=\"question-a\"> <code>[x ** 2 for x in range(1, 11) when x % 2 == 0]</code></li>\n",
        "        <li style=\"margin-bottom: 9px;\"><input type=\"checkbox\" name=\"question-a\"> <code>[x ** 2 for x in range(1, 11) while x % 2 == 0]</code></li>\n",
        "        <li style=\"margin-bottom: 9px;\"><input type=\"checkbox\" name=\"question-a\"> <code>[x ** 2 for x in range(2, 11, 2)]</code></li>\n",
        "    </ul>\n",
        "</div>"
      ]
    },
    {
      "cell_type": "markdown",
      "metadata": {
        "id": "XhTC7B-9CSGf"
      },
      "source": [
        "<h4 style=\"\n",
        "    font-family: 'Cairo', sans-serif;\n",
        "    color: #003153;\n",
        "    text-align: justify;\n",
        "    line-height: 1.6;\n",
        "    background-color: white;\n",
        "    padding: 15px;\n",
        "    border-left: 4px solid #C41E3A;\n",
        "    margin: 20px 0;\n",
        "\">\n",
        "9) What is the output?</h4>\n",
        "\n",
        "<pre style=\"\n",
        "    background-color: #f5f5f5;\n",
        "    padding: 10px;\n",
        "    border-radius: 5px;\n",
        "    margin: 10px 0;\n",
        "    color: #000000;\n",
        "\">\n",
        "mystr = 'ABCDEFG'\n",
        "print(mystr[::2])\n",
        "</pre>\n",
        "\n",
        "<div style=\"font-family: 'Cairo', sans-serif; padding: 20px;\">\n",
        "    <ul style=\"list-style-type: lower-alpha; padding-left: 40px;\">\n",
        "        <li style=\"margin-bottom: 9px;\"><input type=\"checkbox\" name=\"question-a\"> <code>ABCDEFG</code></li>\n",
        "        <li style=\"margin-bottom: 9px;\"><input type=\"checkbox\" name=\"question-a\"> <code>ACEG</code></li>\n",
        "        <li style=\"margin-bottom: 9px;\"><input type=\"checkbox\" name=\"question-a\"> <code>BDF</code></li>\n",
        "        <li style=\"margin-bottom: 9px;\"><input type=\"checkbox\" name=\"question-a\"> <code>ADG</code></li>\n",
        "    </ul>\n",
        "</div>"
      ]
    },
    {
      "cell_type": "markdown",
      "metadata": {
        "id": "8bBb_EXRBOIT"
      },
      "source": [
        "<h4 style=\"\n",
        "    font-family: 'Cairo', sans-serif;\n",
        "    color: #003153;\n",
        "    text-align: justify;\n",
        "    line-height: 1.6;\n",
        "    background-color: white;\n",
        "    padding: 15px;\n",
        "    border-left: 4px solid #C41E3A;\n",
        "    margin: 20px 0;\n",
        "\">\n",
        "10) What is the output?</h4>\n",
        "\n",
        "<pre style=\"\n",
        "    background-color: #f5f5f5;\n",
        "    padding: 10px;\n",
        "    border-radius: 5px;\n",
        "    margin: 10px 0;\n",
        "    color: #000000;\n",
        "\">\n",
        "x = [1, 2, 3]\n",
        "y = x\n",
        "y[0] = 100\n",
        "print(x[0])\n",
        "</pre>\n",
        "\n",
        "<div style=\"font-family: 'Cairo', sans-serif; padding: 20px;\">\n",
        "    <ul style=\"list-style-type: lower-alpha; padding-left: 40px;\">\n",
        "        <li style=\"margin-bottom: 9px;\"><input type=\"checkbox\" name=\"question-a\"> <code>1</code></li>\n",
        "        <li style=\"margin-bottom: 9px;\"><input type=\"checkbox\" name=\"question-a\"> <code>2</code></li>\n",
        "        <li style=\"margin-bottom: 9px;\"><input type=\"checkbox\" name=\"question-a\"> <code>3</code></li>\n",
        "        <li style=\"margin-bottom: 9px;\"><input type=\"checkbox\" name=\"question-a\"> <code>100</code></li>\n",
        "    </ul>\n",
        "</div>"
      ]
    },
    {
      "cell_type": "markdown",
      "metadata": {
        "id": "NI5MimTUcKbR"
      },
      "source": [
        "# **2. Coding** 👨‍💻\n",
        "\n"
      ]
    },
    {
      "cell_type": "markdown",
      "metadata": {
        "id": "g5dNTKC3JaM2"
      },
      "source": [
        "<h4 style=\"\n",
        "    font-family: 'Cairo', sans-serif;\n",
        "    color: #003153;\n",
        "    text-align: justify;\n",
        "    line-height: 1.6;\n",
        "    background-color: white;\n",
        "    padding: 15px;\n",
        "    border-left: 4px solid #C41E3A;\n",
        "    margin: 20px 0;\n",
        "\">\n",
        "1) Given a dictionary called names with first_name as a key and last_name as a value, write a Python code to make the output look like this:</h4>\n",
        "\n",
        "<pre style=\"\n",
        "    background-color: #f5f5f5;\n",
        "    padding: 10px;\n",
        "    border-radius: 5px;\n",
        "    margin: 10px 0;\n",
        "    color: #000000;\n",
        "\">\n",
        "names = { \"Mark\" : \"Zuckerberg\" , \"Elon\" : \"Musk\" , \"Jeff\" : \"Bezos\" }\n",
        "</pre>\n",
        "\n",
        "<pre style=\"\n",
        "    background-color: #f5f5f5;\n",
        "    padding: 10px;\n",
        "    border-radius: 5px;\n",
        "    margin: 10px 0;\n",
        "    font-family: monospace;\n",
        "    color: #000000;\n",
        "\">\n",
        "Expected output:\n",
        "Mark Z.\n",
        "Elon M.\n",
        "Jeff B.\n",
        "</pre>"
      ]
    },
    {
      "cell_type": "code",
      "execution_count": 1,
      "metadata": {
        "colab": {
          "base_uri": "https://localhost:8080/"
        },
        "id": "8mJTcK8RfxPP",
        "outputId": "0d18587e-ea2c-407f-f16d-14ba306e6137"
      },
      "outputs": [
        {
          "name": "stdout",
          "output_type": "stream",
          "text": [
            "Mark Z.\n",
            "Elon M.\n",
            "Jeff B.\n"
          ]
        }
      ],
      "source": [
        "names = { \"Mark\" : \"Zuckerberg\" , \"Elon\" : \"Musk\" , \"Jeff\" : \"Bezos\" }\n",
        "\n",
        "for k,v in names.items():\n",
        "    print(f\"{k} {v[0]}.\")"
      ]
    },
    {
      "cell_type": "markdown",
      "metadata": {
        "id": "lWXFCYzLJaPL"
      },
      "source": [
        "<h4 style=\"\n",
        "    font-family: 'Cairo', sans-serif;\n",
        "    color: #003153;\n",
        "    text-align: justify;\n",
        "    line-height: 1.6;\n",
        "    background-color: white;\n",
        "    padding: 15px;\n",
        "    border-left: 4px solid #C41E3A;\n",
        "    margin: 20px 0;\n",
        "\">\n",
        "2) Write a code to get the unique numbers in this list and put them in a tuple:</h4>\n",
        "\n",
        "<pre style=\"\n",
        "    background-color: #f5f5f5;\n",
        "    padding: 10px;\n",
        "    border-radius: 5px;\n",
        "    margin: 10px 0;\n",
        "    color: #000000;\n",
        "\">\n",
        "nums = [12, 21, 1, 3, 4, 1, 2, 1, 4, 15, 2, 2, 3, 2, 4, 2, 3, 2, 12, 1, 15, 3, 2, 1, 21]\n",
        "</pre>"
      ]
    },
    {
      "cell_type": "code",
      "execution_count": 2,
      "metadata": {
        "id": "jI8YIY636uvF"
      },
      "outputs": [
        {
          "name": "stdout",
          "output_type": "stream",
          "text": [
            "(1, 2, 3, 4, 12, 15, 21)\n"
          ]
        }
      ],
      "source": [
        "nums = [12, 21, 1, 3, 4, 1, 2, 1, 4, 15, 2, 2, 3, 2, 4, 2, 3, 2, 3, 12, 1, 15, 3, 2, 1, 21]\n",
        "\n",
        "unique_nums = tuple(set(nums))\n",
        "print(unique_nums)"
      ]
    },
    {
      "cell_type": "markdown",
      "metadata": {
        "id": "I65A3mLdkPEW"
      },
      "source": [
        "<h4 style=\"\n",
        "    font-family: 'Cairo', sans-serif;\n",
        "    color: #003153;\n",
        "    text-align: justify;\n",
        "    line-height: 1.6;\n",
        "    background-color: white;\n",
        "    padding: 15px;\n",
        "    border-left: 4px solid #C41E3A;\n",
        "    margin: 20px 0;\n",
        "\">\n",
        "3) Write a function that receives an email as a string and changes its domain to <strong>\"@catreloaded.com\"</strong>:</h4>\n",
        "\n",
        "<pre style=\"\n",
        "    background-color: #f5f5f5;\n",
        "    padding: 10px;\n",
        "    border-radius: 5px;\n",
        "    margin: 10px 0;\n",
        "    color: #000000;\n",
        "\">\n",
        "Example:\n",
        "email = \"ahmed@yahoo.com\"\n",
        "new_email = change_domain(email)\n",
        "print(new_email)\n",
        "</pre>\n",
        "\n",
        "<pre style=\"\n",
        "    background-color: #f5f5f5;\n",
        "    padding: 10px;\n",
        "    border-radius: 5px;\n",
        "    margin: 10px 0;\n",
        "    color: #000000;\n",
        "\">\n",
        "Expected output:\n",
        "ahmed@catreloaded.com\n",
        "</pre>"
      ]
    },
    {
      "cell_type": "code",
      "execution_count": 3,
      "metadata": {
        "id": "OESMZrkhAXrn"
      },
      "outputs": [
        {
          "name": "stdout",
          "output_type": "stream",
          "text": [
            "@catreloaded.com\n"
          ]
        }
      ],
      "source": [
        "def change_domain(email):\n",
        "    n = email.find(\"@\")\n",
        "    print(email[:n] + \"@catreloaded.com\")\n",
        "\n",
        "\n",
        "email = input()\n",
        "change_domain(email)"
      ]
    },
    {
      "cell_type": "markdown",
      "metadata": {
        "id": "V2Qoj_QemV1J"
      },
      "source": [
        "<h4 style=\"\n",
        "    font-family: 'Cairo', sans-serif;\n",
        "    color: #003153;\n",
        "    text-align: justify;\n",
        "    line-height: 1.6;\n",
        "    background-color: white;\n",
        "    padding: 15px;\n",
        "    border-left: 4px solid #C41E3A;\n",
        "    margin: 20px 0;\n",
        "\">\n",
        "4) Write a function that takes any variable <code>n</code> and returns its factorial:</h4>\n",
        "\n",
        "<pre style=\"\n",
        "    background-color: #f5f5f5;\n",
        "    padding: 10px;\n",
        "    border-radius: 5px;\n",
        "    margin: 10px 0;\n",
        "    color: #000000;\n",
        "\">\n",
        "Hint: factorial of 5 = 5 × 4 × 3 × 2 × 1\n",
        "</pre>"
      ]
    },
    {
      "cell_type": "code",
      "execution_count": 4,
      "metadata": {
        "id": "sLFmQTKzoUfO"
      },
      "outputs": [
        {
          "ename": "KeyboardInterrupt",
          "evalue": "Interrupted by user",
          "output_type": "error",
          "traceback": [
            "\u001b[1;31m---------------------------------------------------------------------------\u001b[0m",
            "\u001b[1;31mKeyboardInterrupt\u001b[0m                         Traceback (most recent call last)",
            "Cell \u001b[1;32mIn[4], line 7\u001b[0m\n\u001b[0;32m      4\u001b[0m     \u001b[38;5;28;01melse\u001b[39;00m:\n\u001b[0;32m      5\u001b[0m         \u001b[38;5;28;01mreturn\u001b[39;00m n \u001b[38;5;241m*\u001b[39m fact(n\u001b[38;5;241m-\u001b[39m\u001b[38;5;241m1\u001b[39m)\n\u001b[1;32m----> 7\u001b[0m n \u001b[38;5;241m=\u001b[39m \u001b[38;5;28mint\u001b[39m(\u001b[38;5;28;43minput\u001b[39;49m\u001b[43m(\u001b[49m\u001b[43m)\u001b[49m)\n\u001b[0;32m      8\u001b[0m \u001b[38;5;28mprint\u001b[39m(fact(n))\n",
            "File \u001b[1;32m~\\AppData\\Roaming\\Python\\Python312\\site-packages\\ipykernel\\kernelbase.py:1282\u001b[0m, in \u001b[0;36mKernel.raw_input\u001b[1;34m(self, prompt)\u001b[0m\n\u001b[0;32m   1280\u001b[0m     msg \u001b[38;5;241m=\u001b[39m \u001b[38;5;124m\"\u001b[39m\u001b[38;5;124mraw_input was called, but this frontend does not support input requests.\u001b[39m\u001b[38;5;124m\"\u001b[39m\n\u001b[0;32m   1281\u001b[0m     \u001b[38;5;28;01mraise\u001b[39;00m StdinNotImplementedError(msg)\n\u001b[1;32m-> 1282\u001b[0m \u001b[38;5;28;01mreturn\u001b[39;00m \u001b[38;5;28;43mself\u001b[39;49m\u001b[38;5;241;43m.\u001b[39;49m\u001b[43m_input_request\u001b[49m\u001b[43m(\u001b[49m\n\u001b[0;32m   1283\u001b[0m \u001b[43m    \u001b[49m\u001b[38;5;28;43mstr\u001b[39;49m\u001b[43m(\u001b[49m\u001b[43mprompt\u001b[49m\u001b[43m)\u001b[49m\u001b[43m,\u001b[49m\n\u001b[0;32m   1284\u001b[0m \u001b[43m    \u001b[49m\u001b[38;5;28;43mself\u001b[39;49m\u001b[38;5;241;43m.\u001b[39;49m\u001b[43m_parent_ident\u001b[49m\u001b[43m[\u001b[49m\u001b[38;5;124;43m\"\u001b[39;49m\u001b[38;5;124;43mshell\u001b[39;49m\u001b[38;5;124;43m\"\u001b[39;49m\u001b[43m]\u001b[49m\u001b[43m,\u001b[49m\n\u001b[0;32m   1285\u001b[0m \u001b[43m    \u001b[49m\u001b[38;5;28;43mself\u001b[39;49m\u001b[38;5;241;43m.\u001b[39;49m\u001b[43mget_parent\u001b[49m\u001b[43m(\u001b[49m\u001b[38;5;124;43m\"\u001b[39;49m\u001b[38;5;124;43mshell\u001b[39;49m\u001b[38;5;124;43m\"\u001b[39;49m\u001b[43m)\u001b[49m\u001b[43m,\u001b[49m\n\u001b[0;32m   1286\u001b[0m \u001b[43m    \u001b[49m\u001b[43mpassword\u001b[49m\u001b[38;5;241;43m=\u001b[39;49m\u001b[38;5;28;43;01mFalse\u001b[39;49;00m\u001b[43m,\u001b[49m\n\u001b[0;32m   1287\u001b[0m \u001b[43m\u001b[49m\u001b[43m)\u001b[49m\n",
            "File \u001b[1;32m~\\AppData\\Roaming\\Python\\Python312\\site-packages\\ipykernel\\kernelbase.py:1325\u001b[0m, in \u001b[0;36mKernel._input_request\u001b[1;34m(self, prompt, ident, parent, password)\u001b[0m\n\u001b[0;32m   1322\u001b[0m \u001b[38;5;28;01mexcept\u001b[39;00m \u001b[38;5;167;01mKeyboardInterrupt\u001b[39;00m:\n\u001b[0;32m   1323\u001b[0m     \u001b[38;5;66;03m# re-raise KeyboardInterrupt, to truncate traceback\u001b[39;00m\n\u001b[0;32m   1324\u001b[0m     msg \u001b[38;5;241m=\u001b[39m \u001b[38;5;124m\"\u001b[39m\u001b[38;5;124mInterrupted by user\u001b[39m\u001b[38;5;124m\"\u001b[39m\n\u001b[1;32m-> 1325\u001b[0m     \u001b[38;5;28;01mraise\u001b[39;00m \u001b[38;5;167;01mKeyboardInterrupt\u001b[39;00m(msg) \u001b[38;5;28;01mfrom\u001b[39;00m \u001b[38;5;28;01mNone\u001b[39;00m\n\u001b[0;32m   1326\u001b[0m \u001b[38;5;28;01mexcept\u001b[39;00m \u001b[38;5;167;01mException\u001b[39;00m:\n\u001b[0;32m   1327\u001b[0m     \u001b[38;5;28mself\u001b[39m\u001b[38;5;241m.\u001b[39mlog\u001b[38;5;241m.\u001b[39mwarning(\u001b[38;5;124m\"\u001b[39m\u001b[38;5;124mInvalid Message:\u001b[39m\u001b[38;5;124m\"\u001b[39m, exc_info\u001b[38;5;241m=\u001b[39m\u001b[38;5;28;01mTrue\u001b[39;00m)\n",
            "\u001b[1;31mKeyboardInterrupt\u001b[0m: Interrupted by user"
          ]
        }
      ],
      "source": [
        "def fact(n):\n",
        "    if n == 0:\n",
        "        return 1\n",
        "    else:\n",
        "        return n * fact(n-1)\n",
        "\n",
        "n = int(input())\n",
        "print(fact(n))"
      ]
    },
    {
      "cell_type": "markdown",
      "metadata": {
        "id": "j3SUIOr8m-Bn"
      },
      "source": [
        "<h4 style=\"\n",
        "    font-family: 'Cairo', sans-serif;\n",
        "    color: #003153;\n",
        "    text-align: justify;\n",
        "    line-height: 1.6;\n",
        "    background-color: white;\n",
        "    padding: 15px;\n",
        "    border-left: 4px solid #C41E3A;\n",
        "    margin: 20px 0;\n",
        "\">\n",
        "5) Use <strong>list comprehension</strong> to get the numbers which are divisible by <code>7</code> from <code>1</code> to <code>100</code>:</h4>"
      ]
    },
    {
      "cell_type": "code",
      "execution_count": null,
      "metadata": {
        "id": "OYt3O9rFAXzl"
      },
      "outputs": [],
      "source": [
        "lst = [x for x in range(1,100) if x % 7 == 0]\n",
        "print(lst)"
      ]
    },
    {
      "cell_type": "markdown",
      "metadata": {
        "id": "tNTaMEPonfCJ"
      },
      "source": [
        "<h4 style=\"\n",
        "    font-family: 'Cairo', sans-serif;\n",
        "    color: #003153;\n",
        "    text-align: justify;\n",
        "    line-height: 1.6;\n",
        "    background-color: white;\n",
        "    padding: 15px;\n",
        "    border-left: 4px solid #C41E3A;\n",
        "    margin: 20px 0;\n",
        "\">\n",
        "6) Use <strong>list comprehension</strong> to create a list of the first letters of every word in this string:</h4>\n",
        "\n",
        "<pre style=\"\n",
        "    background-color: #f5f5f5;\n",
        "    padding: 10px;\n",
        "    border-radius: 5px;\n",
        "    margin: 10px 0;\n",
        "    color: #000000;\n",
        "\">\n",
        "st = 'Friendship is the tree of its seeds tender'\n",
        "</pre>"
      ]
    },
    {
      "cell_type": "code",
      "execution_count": null,
      "metadata": {
        "id": "y10YXWq36u4E"
      },
      "outputs": [],
      "source": [
        "st = 'Friendship is the tree of its seeds tender'\n",
        "lst_st = [ch[0] for ch in st.split(\" \")]\n",
        "print(lst_st)"
      ]
    },
    {
      "cell_type": "markdown",
      "metadata": {
        "id": "k81Ns-NSo_Fs"
      },
      "source": [
        "<h4 style=\"\n",
        "    font-family: 'Cairo', sans-serif;\n",
        "    color: #003153;\n",
        "    text-align: justify;\n",
        "    line-height: 1.6;\n",
        "    background-color: white;\n",
        "    padding: 15px;\n",
        "    border-left: 4px solid #C41E3A;\n",
        "    margin: 20px 0;\n",
        "\">\n",
        "7) Sort the following list using two different methods: <code>sort()</code> and <code>sorted()</code>. What is the difference between them?</h4>\n",
        "\n",
        "<pre style=\"\n",
        "    background-color: #f5f5f5;\n",
        "    padding: 10px;\n",
        "    border-radius: 5px;\n",
        "    margin: 10px 0;\n",
        "    color: #000000;\n",
        "\">\n",
        "my_list = [13, 55, 22, 1, 4]\n",
        "</pre>"
      ]
    },
    {
      "cell_type": "code",
      "execution_count": null,
      "metadata": {
        "id": "L7Tt3FcgBR0-"
      },
      "outputs": [],
      "source": [
        "my_list = [13, 55, 22, 1, 4]\n",
        "# (1) sorted\n",
        "# -> doesn't modify the original list\n",
        "print(sorted(my_list))\n",
        "\n",
        "# (2) sort\n",
        "# -> modify the original list\n",
        "my_list.sort()\n",
        "print(my_list)"
      ]
    },
    {
      "cell_type": "markdown",
      "metadata": {
        "id": "v37_zeQNsDDq"
      },
      "source": [
        "<h4 style=\"\n",
        "    font-family: 'Cairo', sans-serif;\n",
        "    color: #003153;\n",
        "    text-align: justify;\n",
        "    line-height: 1.6;\n",
        "    background-color: white;\n",
        "    padding: 15px;\n",
        "    border-left: 4px solid #C41E3A;\n",
        "    margin: 20px 0;\n",
        "\">\n",
        "8) Using <strong>string slicing</strong>, extract the word <code>'rats'</code> from the following string, assign it to a new variable, then reverse it:</h4>\n",
        "\n",
        "<pre style=\"\n",
        "    background-color: #f5f5f5;\n",
        "    padding: 10px;\n",
        "    border-radius: 5px;\n",
        "    margin: 10px 0;\n",
        "    color: #000000;\n",
        "\">\n",
        "text = 'I hate the rats'\n",
        "</pre>"
      ]
    },
    {
      "cell_type": "code",
      "execution_count": null,
      "metadata": {
        "id": "dvxU3ZuuEfCz"
      },
      "outputs": [],
      "source": [
        "text = 'I hate the rats'\n",
        "n = text.find(\"rats\")\n",
        "ex_text = text[n:]\n",
        "ex_text = ex_text[::-1]\n",
        "print(ex_text)"
      ]
    },
    {
      "cell_type": "markdown",
      "metadata": {
        "id": "_4bQ9-467e3B"
      },
      "source": [
        "# **3. CodeForces Problems** 💡\n",
        "\n"
      ]
    },
    {
      "cell_type": "markdown",
      "metadata": {
        "id": "QIJF1nWFdQrC"
      },
      "source": [
        "<div style=\"\n",
        "    font-family: 'Cairo', sans-serif;\n",
        "    background-color: rgba(77, 77, 77, 0.8);\n",
        "    padding: 20px;\n",
        "    border-radius: 5px;\n",
        "    margin: 20px 0;\n",
        "    font-size: 18px;\n",
        "\">\n",
        "    <p style=\"text-align: justify; line-height: 2; margin-bottom: 20px; color:rgb(255, 255, 255); font-weight: bold;\">\n",
        "        Click on the problem to view it in Codeforces Website, if you don't have an account on it, make an account and participate in the group, then submit the problem and provide the link to your submission.\n",
        "    </p>\n",
        "    <p style=\"text-align: justify; line-height: 2; color:rgb(255, 255, 255); font-weight: bold;\">\n",
        "        If you can't do that, just submit the code here :)\n",
        "    </p>\n",
        "</div>"
      ]
    },
    {
      "cell_type": "markdown",
      "metadata": {
        "id": "BmGVTWGw6y39"
      },
      "source": [
        "<h4 style=\"\n",
        "    font-family: 'Cairo', sans-serif;\n",
        "    color: #003153;\n",
        "    text-align: justify;\n",
        "    line-height: 1.6;\n",
        "    background-color: white;\n",
        "    padding: 15px;\n",
        "    border-left: 4px solid #C41E3A;\n",
        "    margin: 20px 0;\n",
        "\">\n",
        "<a href=\"https://codeforces.com/group/MWSDmqGsZm/contest/219158/problem/Y?f0a28=1\" style=\"text-decoration: none; color: #003153;\">\n",
        "Problem 1: The Last 2 Digits\n",
        "</a></h4>"
      ]
    },
    {
      "cell_type": "code",
      "execution_count": null,
      "metadata": {
        "id": "bhFS05Y67vzV"
      },
      "outputs": [],
      "source": [
        "#codeforces_submission_link\n",
        "n1, n2, n3, n4 = map(int, input().split())\n",
        "st = str((n1*n2*n3*n4))\n",
        "print(st[-2] + st[-1])\n"
      ]
    },
    {
      "cell_type": "markdown",
      "metadata": {
        "id": "FSaaKqRw721v"
      },
      "source": [
        "<h4 style=\"\n",
        "    font-family: 'Cairo', sans-serif;\n",
        "    color: #003153;\n",
        "    text-align: justify;\n",
        "    line-height: 1.6;\n",
        "    background-color: white;\n",
        "    padding: 15px;\n",
        "    border-left: 4px solid #C41E3A;\n",
        "    margin: 20px 0;\n",
        "\">\n",
        "<a href=\"https://codeforces.com/group/6Yv6FRlDFU/contest/327653/problem/A\" style=\"text-decoration: none; color: #003153;\">\n",
        "Problem 2: Fox And Snake\n",
        "</a></h4>"
      ]
    },
    {
      "cell_type": "code",
      "execution_count": null,
      "metadata": {
        "id": "vbabUH7j8KBu"
      },
      "outputs": [],
      "source": [
        "#codeforces_submission_link\n",
        "n,m = map(int, input().split())\n",
        "\n",
        "ff = 0\n",
        "for i in range(n): ##rows\n",
        "    if i % 2 == 0:\n",
        "        print('#'*m)\n",
        "    else:\n",
        "        if ff % 2 == 0:\n",
        "            print(('.'*(m-1)).ljust(m,'#'))\n",
        "            ff += 1\n",
        "        else:\n",
        "            print(('.'*(m-1)).rjust(m,'#'))\n",
        "            ff += 1\n",
        "\n"
      ]
    },
    {
      "cell_type": "markdown",
      "metadata": {
        "id": "l_LvAmT5Oqrq"
      },
      "source": [
        "<h4 style=\"\n",
        "    font-family: 'Cairo', sans-serif;\n",
        "    color: #003153;\n",
        "    text-align: justify;\n",
        "    line-height: 1.6;\n",
        "    background-color: white;\n",
        "    padding: 15px;\n",
        "    border-left: 4px solid #C41E3A;\n",
        "    margin: 20px 0;\n",
        "\">\n",
        "<a href=\"https://codeforces.com/contest/1795/problem/A?f0a28=1\" style=\"text-decoration: none; color: #003153;\">\n",
        "Problem 3 <strong>(BONUS)</strong>: Two Towers\n",
        "</a></h4>"
      ]
    },
    {
      "cell_type": "code",
      "execution_count": null,
      "metadata": {
        "id": "DEgTYWU2fY7p"
      },
      "outputs": [],
      "source": [
        "#codeforces_submission_link\n",
        "def count_overlapping_RR(s):\n",
        "    count = 0\n",
        "    for i in range(len(s) - 1):\n",
        "        if s[i:i+2] == \"RR\":\n",
        "            count += 1\n",
        "    return count\n",
        "\n",
        "def count_overlapping_BB(s):\n",
        "    count = 0\n",
        "    for i in range(len(s) - 1):\n",
        "        if s[i:i+2] == \"BB\":\n",
        "            count += 1\n",
        "    return count\n",
        "\n",
        "\n",
        "t = int(input())\n",
        "for _ in range(t):\n",
        "    n,m = map(int, input().split())\n",
        "    s1 = input()\n",
        "    s2 = input()\n",
        "\n",
        "    ss1 =  s1 + s2[::-1]\n",
        "    ss2 =  s2 + s1[::-1]\n",
        "\n",
        "    flag = True\n",
        "\n",
        "    if (count_overlapping_RR(ss1) > 1 or count_overlapping_BB(ss1) > 1) and (count_overlapping_RR(ss2) > 1 or count_overlapping_BB(ss2) > 1):\n",
        "        flag = False\n",
        "\n",
        "    if (count_overlapping_RR(ss1) >= 1 and count_overlapping_BB(ss1) >= 1) or (count_overlapping_RR(ss2) >= 1 and count_overlapping_BB(ss2) >= 1):\n",
        "        flag = False\n",
        "\n",
        "\n",
        "    if flag:\n",
        "        print(\"YES\")\n",
        "    else:\n",
        "        print(\"NO\")\n"
      ]
    }
  ],
  "metadata": {
    "colab": {
      "provenance": []
    },
    "kernelspec": {
      "display_name": "Python 3",
      "name": "python3"
    },
    "language_info": {
      "codemirror_mode": {
        "name": "ipython",
        "version": 3
      },
      "file_extension": ".py",
      "mimetype": "text/x-python",
      "name": "python",
      "nbconvert_exporter": "python",
      "pygments_lexer": "ipython3",
      "version": "3.12.1"
    }
  },
  "nbformat": 4,
  "nbformat_minor": 0
}
