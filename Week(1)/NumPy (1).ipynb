{
  "cells": [
    {
      "cell_type": "markdown",
      "metadata": {
        "id": "m8hMaxV48Xc-"
      },
      "source": [
        "<h1 style=\"text-align: center; font-family: 'Cairo', sans-serif; font-weight: bold; background-color: white;\">\n",
        "    <span style=\"color: #C41E3A;\">CAT</span>\n",
        "    <span style=\"color: #003153;\">Reloaded</span>\n",
        "</h1>"
      ]
    },
    {
      "cell_type": "markdown",
      "metadata": {
        "id": "Ej2-0-S48XdE"
      },
      "source": [
        "# **1. NumPy** 📊 🖊️"
      ]
    },
    {
      "cell_type": "markdown",
      "metadata": {
        "id": "-viKqo-X8XdF"
      },
      "source": [
        "<span style = \"font-size:20px\"> **(1) Our journey will start by the most dangerous move.**</span><br>"
      ]
    },
    {
      "cell_type": "code",
      "execution_count": 2,
      "metadata": {
        "id": "G0Jv6Ojx8XdG"
      },
      "outputs": [
        {
          "ename": "ModuleNotFoundError",
          "evalue": "No module named 'numpy'",
          "output_type": "error",
          "traceback": [
            "\u001b[1;31m---------------------------------------------------------------------------\u001b[0m",
            "\u001b[1;31mModuleNotFoundError\u001b[0m                       Traceback (most recent call last)",
            "Cell \u001b[1;32mIn[2], line 3\u001b[0m\n\u001b[0;32m      1\u001b[0m \u001b[38;5;66;03m# can you import numpy ?\u001b[39;00m\n\u001b[0;32m      2\u001b[0m \u001b[38;5;66;03m# write your code here\u001b[39;00m\n\u001b[1;32m----> 3\u001b[0m \u001b[38;5;28;01mimport\u001b[39;00m \u001b[38;5;21;01mnumpy\u001b[39;00m \u001b[38;5;28;01mas\u001b[39;00m \u001b[38;5;21;01mnp\u001b[39;00m\n",
            "\u001b[1;31mModuleNotFoundError\u001b[0m: No module named 'numpy'"
          ]
        }
      ],
      "source": [
        "# can you import numpy ?\n",
        "# write your code here\n",
        "import numpy as np"
      ]
    },
    {
      "cell_type": "markdown",
      "metadata": {
        "id": "jf_7_cWt8XdI",
        "vscode": {
          "languageId": "html"
        }
      },
      "source": [
        "<center><h2 style = \"font-size:30px\"> Create Array"
      ]
    },
    {
      "cell_type": "markdown",
      "metadata": {
        "id": "L3BHNVSM8XdK"
      },
      "source": [
        "<span style = \"font-size:20px\"> **(2) Create a one dimensinoal array that contains numbers from 1 to 10.**</span><br>\n",
        "    **Use `np.array()`**"
      ]
    },
    {
      "cell_type": "code",
      "execution_count": null,
      "metadata": {
        "id": "8KSb2uKY8XdL"
      },
      "outputs": [],
      "source": [
        "# write your code here\n",
        "import numpy as np\n",
        "\n",
        "arr = np.array([1,2,3,4,5,6,7,8,9])\n",
        "print(arr)"
      ]
    },
    {
      "cell_type": "markdown",
      "metadata": {
        "id": "-P9CYO4n8XdN"
      },
      "source": [
        "<span style = \"font-size:20px\"> **(3) Create the following arrays** </span><br>\n",
        "[[15, 12, 9, 22],<br>\n",
        " [21, 7, 10, 14],<br>\n",
        " [31, 10, 33, 8]]<br>\n",
        " **Use `np.array()`**"
      ]
    },
    {
      "cell_type": "code",
      "execution_count": null,
      "metadata": {
        "id": "ZrXsfALw8XdO"
      },
      "outputs": [],
      "source": [
        "# write your code here\n",
        "import numpy as np\n",
        "\n",
        "arr = np.array([[15,12,9,22],[21,7,10,14],[31,10,33,8]])\n",
        "\n",
        "print(arr)"
      ]
    },
    {
      "cell_type": "markdown",
      "metadata": {
        "id": "DcXLBbJJ8XdP"
      },
      "source": [
        "<span style = \"font-size:20px\"> **(4) Create an array full of zeros and of shape (2,3).**</span><br>\n",
        "    **Use `np.zeros()`**"
      ]
    },
    {
      "cell_type": "code",
      "execution_count": null,
      "metadata": {
        "id": "Q9yzY6zs8XdP"
      },
      "outputs": [],
      "source": [
        "# write your code here\n",
        "import numpy as np\n",
        "\n",
        "arr_z = np.zeros((2,3))\n",
        "\n",
        "print(arr_z)"
      ]
    },
    {
      "cell_type": "markdown",
      "metadata": {
        "id": "BfRcUERC8XdQ"
      },
      "source": [
        "<span style = \"font-size:20px\"> **(5) Create an array that contains odd numbers from 1 to 1000.**</span><br>\n",
        "**Use: `np.arange()`**"
      ]
    },
    {
      "cell_type": "code",
      "execution_count": null,
      "metadata": {
        "id": "uXH-nofh8XdQ"
      },
      "outputs": [],
      "source": [
        "# write your code here\n",
        "#odd number = 2n + 1\n",
        "import numpy as np\n",
        "\n",
        "arr_odd = np.arange(1,1001, 2)\n",
        "\n",
        "print(arr_odd)\n"
      ]
    },
    {
      "cell_type": "markdown",
      "metadata": {
        "id": "io54zcP98XdR",
        "vscode": {
          "languageId": "html"
        }
      },
      "source": [
        "<center><h2 style = \"font-size:30px\"> Array Details"
      ]
    },
    {
      "cell_type": "markdown",
      "metadata": {
        "id": "yLXOydQo8XdR"
      },
      "source": [
        "<span style = \"font-size:20px\"> **(6) Start by making any 3D array.**</span><br>"
      ]
    },
    {
      "cell_type": "code",
      "execution_count": null,
      "metadata": {
        "id": "5MTsysNZ8XdR"
      },
      "outputs": [
        {
          "name": "stdout",
          "output_type": "stream",
          "text": [
            "<class 'list'>\n"
          ]
        }
      ],
      "source": [
        "# write your code here\n",
        "import numpy as np\n",
        "# array in size 3*3*3\n",
        "arr_3d = np.array([\n",
        "    [[1,2,3]        , [4,5,6]        , [7,8,9]],\n",
        "    [[10,20,30]     , [40,50,60]     , [70,80,90]],\n",
        "    [[100, 200, 300], [400, 500, 600], [700, 800, 900]]\n",
        "        ])\n",
        "print(arr_3d)\n",
        "print( type(arr_3d))\n"
      ]
    },
    {
      "cell_type": "markdown",
      "metadata": {
        "id": "AaFJKDIA8XdS"
      },
      "source": [
        "<span style = \"font-size:20px\"> **(7) Show what `ndim` do.**</span><br>"
      ]
    },
    {
      "cell_type": "code",
      "execution_count": 5,
      "metadata": {
        "id": "GhUd6DFX8XdS"
      },
      "outputs": [
        {
          "ename": "AttributeError",
          "evalue": "'list' object has no attribute 'ndim'",
          "output_type": "error",
          "traceback": [
            "\u001b[1;31m---------------------------------------------------------------------------\u001b[0m",
            "\u001b[1;31mAttributeError\u001b[0m                            Traceback (most recent call last)",
            "Cell \u001b[1;32mIn[5], line 3\u001b[0m\n\u001b[0;32m      1\u001b[0m \u001b[38;5;66;03m# write your code here\u001b[39;00m\n\u001b[0;32m      2\u001b[0m \u001b[38;5;66;03m#ndim shows the number of dimentions\u001b[39;00m\n\u001b[1;32m----> 3\u001b[0m \u001b[38;5;28mprint\u001b[39m( \u001b[43marr_3d\u001b[49m\u001b[38;5;241;43m.\u001b[39;49m\u001b[43mndim\u001b[49m)\n",
            "\u001b[1;31mAttributeError\u001b[0m: 'list' object has no attribute 'ndim'"
          ]
        }
      ],
      "source": [
        "# write your code here\n",
        "#ndim shows the number of dimentions\n",
        "print( arr_3d.ndim)"
      ]
    },
    {
      "cell_type": "markdown",
      "metadata": {
        "id": "PqJnKF9k8XdS"
      },
      "source": [
        "<span style = \"font-size:20px\"> **(8) What is the difference between `shape` and `size`?**</span><br>\n",
        "**Explain with words and with `code`.**"
      ]
    },
    {
      "cell_type": "code",
      "execution_count": null,
      "metadata": {
        "id": "FOE-YOEQ8XdT"
      },
      "outputs": [],
      "source": [
        "# write your code here\n",
        "print(arr_3d.shape)\n",
        "# return the dimesions of array (rows, cols,  width)\n",
        "##-----------------##\n",
        "print(arr_3d.size)\n",
        "#return the number of elements of the array\n"
      ]
    },
    {
      "cell_type": "markdown",
      "metadata": {
        "id": "UDvRZibg8XdT"
      },
      "source": [
        "![](https://github.com/Abdullah-ghazal/CAT-Reloaded-Data-Science-Task/blob/main/photo3.png?raw=1)"
      ]
    },
    {
      "cell_type": "markdown",
      "metadata": {
        "id": "i5hbO-Ki8XdT"
      },
      "source": [
        "<center><h2 style = \"font-size:30px\"> Indexing & Slicing"
      ]
    },
    {
      "cell_type": "markdown",
      "metadata": {
        "id": "VGkwVnMz8XdT"
      },
      "source": [
        "<span style = \"font-size:20px\"> **(9) Get the value of the element in the first row and second column.**</span><br>"
      ]
    },
    {
      "cell_type": "code",
      "execution_count": null,
      "metadata": {
        "id": "HTXGzCuu8XdU"
      },
      "outputs": [],
      "source": [
        "np.random.seed(42)\n",
        "arr = np.random.randn(3, 3)\n",
        "# write your code here\n",
        "\n",
        "v = arr[0,1]\n",
        "print(v)"
      ]
    },
    {
      "cell_type": "markdown",
      "metadata": {
        "id": "Erh9XCWp8XdU"
      },
      "source": [
        "<span style = \"font-size:20px\"> **(10) Get the first 2 rows.**</span><br>"
      ]
    },
    {
      "cell_type": "code",
      "execution_count": null,
      "metadata": {
        "id": "HuSudx8K8XdU"
      },
      "outputs": [],
      "source": [
        "np.random.seed(42)\n",
        "arr = np.random.randn(3, 3)\n",
        "# write your code here\n",
        "two_rows = arr[0:2,]\n",
        "print(two_rows)\n",
        "\n"
      ]
    },
    {
      "cell_type": "markdown",
      "metadata": {
        "id": "7Q4wEJGb8XdV"
      },
      "source": [
        "<span style = \"font-size:20px\"> **(11) Change the shape of the array to be (2, 6) and print the new shape.**</span><br>"
      ]
    },
    {
      "cell_type": "code",
      "execution_count": null,
      "metadata": {
        "id": "lB2VqzZn8XdV"
      },
      "outputs": [],
      "source": [
        "import numpy as np\n",
        "\n",
        "np.random.seed(42)\n",
        "arr = np.random.randn(4, 3)\n",
        "# write your code here\n",
        "\n",
        "new_ar = arr.reshape(2,6)\n",
        "print(new_ar)\n",
        "\n"
      ]
    },
    {
      "cell_type": "markdown",
      "metadata": {
        "id": "SpQzL09R8XdW"
      },
      "source": [
        "<center><h2 style = \"font-size:30px\"> NumPy common functions"
      ]
    },
    {
      "cell_type": "markdown",
      "metadata": {
        "id": "1x5Y5ZRO8XdW"
      },
      "source": [
        "<span style = \"font-size:20px\"> **(12) Flat the following array.**</span><br>"
      ]
    },
    {
      "cell_type": "code",
      "execution_count": null,
      "metadata": {
        "id": "eRUaIrUo8XdW"
      },
      "outputs": [],
      "source": [
        "import numpy as np\n",
        "\n",
        "arr = np.array([[i, 2*i, 3*i] for i in range(3, 300)])\n",
        "# write your code here\n",
        "new_ar = arr.reshape(-1)\n",
        "\n",
        "print(new_ar)"
      ]
    },
    {
      "cell_type": "markdown",
      "metadata": {
        "id": "BbNqAnhu8XdW"
      },
      "source": [
        "<span style = \"font-size:20px\"> **(13) Transpose the following array.**</span><br>"
      ]
    },
    {
      "cell_type": "code",
      "execution_count": null,
      "metadata": {
        "id": "DTBRynLg8XdW"
      },
      "outputs": [],
      "source": [
        "import numpy as np\n",
        "arr = np.array([[[[j, j + 1] for j in range(5)]] for i in range(3)])\n",
        "# write your code here\n",
        "\n",
        "new_ar = arr.transpose()\n",
        "\n",
        "print(new_ar)"
      ]
    },
    {
      "cell_type": "markdown",
      "metadata": {
        "id": "IHDh1rXq8XdX"
      },
      "source": [
        "<span style = \"font-size:20px\"> **(14) How many unique values are in the following array and print them.**</span><br>"
      ]
    },
    {
      "cell_type": "code",
      "execution_count": null,
      "metadata": {
        "id": "2gtHrHVY8XdX"
      },
      "outputs": [],
      "source": [
        "import numpy as np\n",
        "\n",
        "countries = np.array(['canada','spain','india','usa','canada','england','japan','germany','india','england','egypt','england','japan','egypt','india','japan'\n",
        "                     ,'china','germany','india','china','canada','india','canada''egypt','china','germany','japan','russia'\n",
        "                    ,'england','usa','germany','china','russia''germany''china','spain''spain','canada','germany','spain',\n",
        "                    'china','canada','china''canada','germany','russia','japan','india','russia','egypt', 'canada',\n",
        "                    'spain','india','usa','canada','england','japan','germany','india','england','egypt','england','japan',\n",
        "                    'egypt','india','japan','china','germany','india','china','canada','india','canada''egypt','china','germany','japan','russia'\n",
        "                      ,'england','usa','germany','china','russia''germany''china','spain''spain','canada','germany','spain',\n",
        "                      'china','canada','china''canada','germany','russia','japan','india','russia','egypt'])\n",
        "# write your code here\n",
        "# Be smart and use code\n",
        "new_arr = np.unique(countries)  \n",
        "print(new_arr)\n",
        "print(new_arr.size)\n",
        "\n"
      ]
    },
    {
      "cell_type": "markdown",
      "metadata": {
        "id": "6pTgIljp8XdY"
      },
      "source": [
        "<span style = \"font-size:20px\"> **(15) Sort the following array.**</span><br>"
      ]
    },
    {
      "cell_type": "code",
      "execution_count": null,
      "metadata": {
        "id": "XMUI-c4J8XdY"
      },
      "outputs": [],
      "source": [
        "import numpy as np\n",
        "np.random.seed(42)\n",
        "arr = np.random.randn(50)\n",
        "# write your code here\n",
        "\n",
        "print(np.sort(arr))"
      ]
    },
    {
      "cell_type": "markdown",
      "metadata": {
        "id": "XkWyJSEu8XdY"
      },
      "source": [
        "<span style = \"font-size:20px\"> **(16) Generate 5x5 matrix with (99)in each value.**</span><br>"
      ]
    },
    {
      "cell_type": "code",
      "execution_count": null,
      "metadata": {
        "id": "ur9J4S3K8XdZ"
      },
      "outputs": [],
      "source": [
        "# write your code here\n",
        "import numpy as np\n",
        "\n",
        "arr = np.full((5,5), 99)\n",
        "print(arr)"
      ]
    },
    {
      "cell_type": "markdown",
      "metadata": {
        "id": "sT8KHe5b8Xde"
      },
      "source": [
        "<span style = \"font-size:20px\"> **(17) Can you shuffle this data?**</span><br>"
      ]
    },
    {
      "cell_type": "code",
      "execution_count": null,
      "metadata": {
        "id": "FnM3Va668Xde"
      },
      "outputs": [],
      "source": [
        "import numpy as np\n",
        "\n",
        "arr = np.array([1, 2, 3, 4, 5])\n",
        "\n",
        "# Shuffle the array\n",
        "np.random.shuffle(arr)\n",
        "\n",
        "print(arr)\n",
        "    "
      ]
    },
    {
      "cell_type": "markdown",
      "metadata": {
        "id": "C_SZ9qO08Xdf"
      },
      "source": [
        "<center><h2 style = \"font-size:30px\"> Statistics"
      ]
    },
    {
      "cell_type": "markdown",
      "metadata": {
        "id": "x7UMuJoZ8Xdf"
      },
      "source": [
        "<span style = \"font-size:20px\"> **(18) Calculate the following.**</span><br>"
      ]
    },
    {
      "cell_type": "code",
      "execution_count": null,
      "metadata": {
        "id": "g8Nc7lpN8Xdf"
      },
      "outputs": [],
      "source": [
        "import numpy as np\n",
        "\n",
        "np.random.seed(42)\n",
        "arr = np.random.randn(5,4)\n",
        "# write your code here\n",
        "mean = np.mean(arr)\n",
        "median = np.median(arr)\n",
        "sum = np.sum(arr)\n",
        "variance = np.var(arr)\n",
        "std = np.std(arr)\n",
        "\n",
        "print(f\"mean = {mean}\")\n",
        "print(f\"median = {median}\")\n",
        "print(f\"sum = {sum}\")\n",
        "print(f\"variance = {variance}\")\n",
        "print(f\"std = {std}\")\n"
      ]
    },
    {
      "cell_type": "markdown",
      "metadata": {
        "id": "0qr6dcgm8Xdf"
      },
      "source": [
        "<center><h2 style = \"font-size:30px\"> Maths"
      ]
    },
    {
      "cell_type": "markdown",
      "metadata": {
        "id": "k9gHKGS08Xdf"
      },
      "source": [
        "<span style = \"font-size:20px\"> **(19) Calculate the following.**</span><br>"
      ]
    },
    {
      "cell_type": "code",
      "execution_count": null,
      "metadata": {
        "id": "FD1WqlDo8Xdf"
      },
      "outputs": [],
      "source": [
        "import numpy as np\n",
        "\n",
        "np.random.seed(42)\n",
        "arr = np.random.randn(5, 4)\n",
        "max = np.max(arr)\n",
        "min = np.min(arr)\n",
        "sqrt = np.sqrt(np.abs(arr))\n",
        "abs = np.abs(arr)\n",
        "\n",
        "print(f\"max = {max}\")\n",
        "print(f\"min = {min}\")\n",
        "print(f\"sqrt = {sqrt}\")\n",
        "print(f\"abs = {abs}\")\n"
      ]
    },
    {
      "cell_type": "markdown",
      "metadata": {
        "id": "cCxZ8utF8Xdf"
      },
      "source": [
        "<span style = \"font-size:20px\"> **(20) What is the difference between `np.dot()` & `np.multiply()` & `np.matmul`**.</span><br>"
      ]
    },
    {
      "cell_type": "code",
      "execution_count": null,
      "metadata": {
        "id": "STSdqacI8Xdg"
      },
      "outputs": [],
      "source": [
        "import numpy as np\n",
        "\n",
        "matrix1 = np.array([[1, 2], [3, 4]])\n",
        "matrix2 = np.array([[-1, 0], [-2, 4]])\n",
        "# write your code here\n",
        "arr_dot = np.dot(matrix1, matrix2)\n",
        "print(arr_dot)\n",
        "print(\"#\"*10)\n",
        "arr_multiply = np.multiply(matrix1, matrix2)\n",
        "print(arr_multiply)\n",
        "print(\"#\"*10)\n",
        "arr_matmul = np.matmul(matrix1, matrix2)\n",
        "print(arr_matmul)\n",
        "\n"
      ]
    },
    {
      "cell_type": "markdown",
      "metadata": {
        "id": "QdyDKgR18Xdg"
      },
      "source": [
        "<span style = \"font-size:20px\"> **(21) How to divide my_list=[10,20,30,40,50] by 5 ?**.</span><br>"
      ]
    },
    {
      "cell_type": "code",
      "execution_count": 1,
      "metadata": {
        "id": "iWFAHjkp8Xdg"
      },
      "outputs": [
        {
          "name": "stdout",
          "output_type": "stream",
          "text": [
            "[2.0, 4.0, 6.0, 8.0, 10.0]\n"
          ]
        }
      ],
      "source": [
        "# write your code here\n",
        "my_list = [10,20,30,40,50]\n",
        "new_list = [x/5 for x in my_list]\n",
        "print(new_list)"
      ]
    },
    {
      "cell_type": "markdown",
      "metadata": {
        "id": "TVlAGSHM8Xdg"
      },
      "source": [
        "<center><h2 style = \"font-size:30px\"> CodeForces Problems 💡"
      ]
    },
    {
      "cell_type": "markdown",
      "metadata": {
        "id": "ye_0u9Q08Xdg"
      },
      "source": [
        "<a href='https://codeforces.com/group/MWSDmqGsZm/contest/219774/problem/M?fbclid=IwAR0FJIKP70xau9iibN2mvxYsLbwYVlkgSnagRBmaJiH7_qU-7yunb0Qj5iE'><span style = \"font-size:20px\"> **(22) First Problem (Replace MinMax)**</span></a><br>"
      ]
    },
    {
      "cell_type": "code",
      "execution_count": null,
      "metadata": {
        "id": "P_M4TVTo8Xdh"
      },
      "outputs": [],
      "source": [
        "n = int(input())\n",
        "lst = list(map(int, input().split()))\n",
        "\n",
        "mx = lst.index(max(lst))\n",
        "mm = lst.index(min(lst))\n",
        "\n",
        "lst[mm], lst[mx] = lst[mx], lst[mm]\n",
        "\n",
        "print(*lst)"
      ]
    },
    {
      "cell_type": "markdown",
      "metadata": {
        "id": "zMLsPYhm8Xdh"
      },
      "source": [
        "<a href='https://codeforces.com/group/MWSDmqGsZm/contest/219856/problem/J?fbclid=IwAR3kBgECKX2RrvDydVJcJls5Fb7avGJIIfYkPAOXMxSr74TBc9ulf2_cAfE'><span style = \"font-size:20px\"> **(23) Second Problem (Count Letters)**</span></a><br>"
      ]
    },
    {
      "cell_type": "code",
      "execution_count": null,
      "metadata": {
        "id": "4_8LdT0m8Xdh"
      },
      "outputs": [],
      "source": [
        "str = input()\n",
        "ord_st = sorted(set(str))\n",
        "\n",
        "freq = {}\n",
        "for k in ord_st:\n",
        "    freq[k] = str.count(k)\n",
        "\n",
        "\n",
        "for k, v in freq.items():\n",
        "    print(f\"{k} : {v}\")\n"
      ]
    },
    {
      "cell_type": "markdown",
      "metadata": {
        "id": "rRoDes0u8Xdh"
      },
      "source": [
        "<a href='https://leetcode.com/problems/missing-number/description/?envType=daily-question&envId=2024-02-20'><span style = \"font-size:20px\"> **(24) Bonus: Third Problem (Missing number)**</span></a><br>\n"
      ]
    },
    {
      "cell_type": "code",
      "execution_count": null,
      "metadata": {
        "id": "QjM8gua88Xdi"
      },
      "outputs": [],
      "source": [
        "#Link: https://leetcode.com/problems/missing-number/submissions/1579313377\n",
        "#sol:\n",
        "class Solution:\n",
        "    def missingNumber(self, nums: list[int]) -> int:\n",
        "        n = len(nums)\n",
        "        sum_of_list = sum(nums)\n",
        "        sum_o_to_n = sum(range(n+1))\n",
        "        return sum_o_to_n - sum_of_list\n"
      ]
    },
    {
      "cell_type": "markdown",
      "metadata": {
        "id": "x4Du1V5p8Xdi"
      },
      "source": [
        "<h1 style=\"text-align: center; font-weight: bold\"> Good luck ❤️</h1>"
      ]
    },
    {
      "cell_type": "markdown",
      "metadata": {
        "id": "iO85KkI_8Xdi"
      },
      "source": [
        "<div style=\"text-align: center;\">\n",
        "    <img src=\"data:image/png;base64,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\" alt=\"Embedded Image\" />\n",
        "</div>"
      ]
    }
  ],
  "metadata": {
    "colab": {
      "provenance": []
    },
    "kernelspec": {
      "display_name": "Python 3",
      "language": "python",
      "name": "python3"
    },
    "language_info": {
      "codemirror_mode": {
        "name": "ipython",
        "version": 3
      },
      "file_extension": ".py",
      "mimetype": "text/x-python",
      "name": "python",
      "nbconvert_exporter": "python",
      "pygments_lexer": "ipython3",
      "version": "3.12.1"
    }
  },
  "nbformat": 4,
  "nbformat_minor": 0
}
