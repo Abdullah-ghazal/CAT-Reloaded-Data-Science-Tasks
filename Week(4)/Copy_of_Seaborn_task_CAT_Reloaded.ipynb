{
  "nbformat": 4,
  "nbformat_minor": 0,
  "metadata": {
    "colab": {
      "provenance": [],
      "collapsed_sections": [
        "w5uHyBM0iSfN"
      ]
    },
    "kernelspec": {
      "name": "python3",
      "display_name": "Python 3"
    },
    "language_info": {
      "name": "python"
    }
  },
  "cells": [
    {
      "cell_type": "markdown",
      "source": [
        "# About this data\n",
        "\n",
        "## Features of the dataset:\n",
        "1.   **Release_Date**: Date when the movie was released.\n",
        "2.   **Title**: Name of the movie.\n",
        "3. **Overview** : Brief summary of the movie.\n",
        "4.   **Popularity**: A very important metric computed by TMDB developers based on:\n",
        "    *   Number of views per day\n",
        "    *   Votes per day\n",
        "    *   Number of users who marked it as \"favorite\" or \"watchlist\"\n",
        "    *   Release date and more\n",
        "5. **Vote_Count**: Total votes received from viewers.\n",
        "6. **Vote_Average**: Average rating based on vote count and number of viewers (out of 10).\n",
        "7.  **Original_Language**: Original language of the movie. Dubbed versions are not considered original.\n",
        "8.  **Genre**: Categories the movie can be classified under.\n",
        "9.  **Poster_Url**: URL of the movie poster.\n"
      ],
      "metadata": {
        "id": "JYi6rkPkEUiR"
      }
    },
    {
      "cell_type": "markdown",
      "source": [
        "# Import Libraries"
      ],
      "metadata": {
        "id": "jmSJmviSdEAm"
      }
    },
    {
      "cell_type": "code",
      "source": [
        "  import pandas as pd\n",
        "  import matplotlib.pyplot as plt\n",
        "  import numpy as np"
      ],
      "metadata": {
        "id": "fvYmGpdkdDhs"
      },
      "execution_count": 17,
      "outputs": []
    },
    {
      "cell_type": "markdown",
      "source": [
        "# Load the data"
      ],
      "metadata": {
        "id": "5THJzbGhc9Nj"
      }
    },
    {
      "cell_type": "code",
      "source": [
        "import kagglehub\n",
        "\n",
        "# Download latest version\n",
        "path = kagglehub.dataset_download(\"cat-reloaded-data-science/movies\")\n",
        "\n",
        "print(\"Path to dataset files:\", path)"
      ],
      "metadata": {
        "id": "_hLX7j-XEVLY",
        "colab": {
          "base_uri": "https://localhost:8080/"
        },
        "outputId": "8b7ea5d6-5dba-47f5-868b-aaf3bd8a0698"
      },
      "execution_count": 23,
      "outputs": [
        {
          "output_type": "stream",
          "name": "stdout",
          "text": [
            "Path to dataset files: /kaggle/input/movies\n"
          ]
        }
      ]
    },
    {
      "cell_type": "code",
      "source": [
        "df = pd.read_csv(\"/kaggle/input/movies/mymoviedb.csv\", engine='python')"
      ],
      "metadata": {
        "id": "pYPLWhun84jw"
      },
      "execution_count": 24,
      "outputs": []
    },
    {
      "cell_type": "markdown",
      "source": [
        "# Explore the data"
      ],
      "metadata": {
        "id": "6loL5-lHdJAV"
      }
    },
    {
      "cell_type": "code",
      "source": [
        "# First 5 rows\n",
        "print(df.head())\n",
        "\n"
      ],
      "metadata": {
        "id": "GgR5kHRUc8KW",
        "outputId": "49d45d57-c872-4d39-e89d-756dae8be96c",
        "colab": {
          "base_uri": "https://localhost:8080/"
        }
      },
      "execution_count": 25,
      "outputs": [
        {
          "output_type": "stream",
          "name": "stdout",
          "text": [
            "  Release_Date                    Title  \\\n",
            "0   2021-12-15  Spider-Man: No Way Home   \n",
            "1   2022-03-01               The Batman   \n",
            "2   2022-02-25                  No Exit   \n",
            "3   2021-11-24                  Encanto   \n",
            "4   2021-12-22           The King's Man   \n",
            "\n",
            "                                            Overview  Popularity Vote_Count  \\\n",
            "0  Peter Parker is unmasked and no longer able to...    5083.954       8940   \n",
            "1  In his second year of fighting crime, Batman u...    3827.658       1151   \n",
            "2  Stranded at a rest stop in the mountains durin...    2618.087        122   \n",
            "3  The tale of an extraordinary family, the Madri...    2402.201       5076   \n",
            "4  As a collection of history's worst tyrants and...    1895.511       1793   \n",
            "\n",
            "  Vote_Average Original_Language                               Genre  \\\n",
            "0          8.3                en  Action, Adventure, Science Fiction   \n",
            "1          8.1                en            Crime, Mystery, Thriller   \n",
            "2          6.3                en                            Thriller   \n",
            "3          7.7                en  Animation, Comedy, Family, Fantasy   \n",
            "4          7.0                en    Action, Adventure, Thriller, War   \n",
            "\n",
            "                                          Poster_Url  \n",
            "0  https://image.tmdb.org/t/p/original/1g0dhYtq4i...  \n",
            "1  https://image.tmdb.org/t/p/original/74xTEgt7R3...  \n",
            "2  https://image.tmdb.org/t/p/original/vDHsLnOWKl...  \n",
            "3  https://image.tmdb.org/t/p/original/4j0PNHkMr5...  \n",
            "4  https://image.tmdb.org/t/p/original/aq4Pwv5Xeu...  \n"
          ]
        }
      ]
    },
    {
      "cell_type": "code",
      "source": [
        "# Last 5 rows\n",
        "print(df.tail())"
      ],
      "metadata": {
        "id": "0X7w3lo3dS6B",
        "colab": {
          "base_uri": "https://localhost:8080/"
        },
        "outputId": "bd7005cf-32a7-46bd-f0ea-5ad857483e85"
      },
      "execution_count": 26,
      "outputs": [
        {
          "output_type": "stream",
          "name": "stdout",
          "text": [
            "     Release_Date                                 Title  \\\n",
            "9832   1973-10-15                              Badlands   \n",
            "9833   2020-10-01                      Violent Delights   \n",
            "9834   2016-05-06                          The Offering   \n",
            "9835   2021-03-31  The United States vs. Billie Holiday   \n",
            "9836   1984-09-23                               Threads   \n",
            "\n",
            "                                               Overview  Popularity  \\\n",
            "9832  A dramatization of the Starkweather-Fugate kil...      13.357   \n",
            "9833  A female vampire falls in love with a man she ...      13.356   \n",
            "9834  When young and successful reporter Jamie finds...      13.355   \n",
            "9835  Billie Holiday spent much of her career being ...      13.354   \n",
            "9836  Documentary style account of a nuclear holocau...      13.354   \n",
            "\n",
            "     Vote_Count Vote_Average Original_Language                        Genre  \\\n",
            "9832        896          7.6                en                 Drama, Crime   \n",
            "9833          8          3.5                es                       Horror   \n",
            "9834         94          5.0                en    Mystery, Thriller, Horror   \n",
            "9835        152          6.7                en        Music, Drama, History   \n",
            "9836        186          7.8                en  War, Drama, Science Fiction   \n",
            "\n",
            "                                             Poster_Url  \n",
            "9832  https://image.tmdb.org/t/p/original/z81rBzHNgi...  \n",
            "9833  https://image.tmdb.org/t/p/original/4b6HY7rud6...  \n",
            "9834  https://image.tmdb.org/t/p/original/h4uMM1wOhz...  \n",
            "9835  https://image.tmdb.org/t/p/original/vEzkxuE2sJ...  \n",
            "9836  https://image.tmdb.org/t/p/original/lBhU4U9Eeh...  \n"
          ]
        }
      ]
    },
    {
      "cell_type": "code",
      "source": [
        "# Random Five rows:\n",
        "random_rows = df.sample(frac=5/len(df), random_state=42)\n",
        "print(random_rows)"
      ],
      "metadata": {
        "id": "5_d3urgadSt7",
        "colab": {
          "base_uri": "https://localhost:8080/"
        },
        "outputId": "25ae321e-8fdc-4f6c-86da-8493b78ae551"
      },
      "execution_count": 27,
      "outputs": [
        {
          "output_type": "stream",
          "name": "stdout",
          "text": [
            "     Release_Date                         Title  \\\n",
            "9135   2017-12-14                    Steel Rain   \n",
            "4252   1995-04-21       While You Were Sleeping   \n",
            "3662   2020-09-18  Violet Evergarden: The Movie   \n",
            "6454   1996-06-28                    Striptease   \n",
            "518    2016-02-11                      Zootopia   \n",
            "\n",
            "                                               Overview  Popularity  \\\n",
            "9135  Amid a coup, a North Korean agent escapes sout...      14.025   \n",
            "4252  A transit worker pulls commuter Peter off rail...      23.489   \n",
            "3662  As the world moves on from the war and technol...      26.171   \n",
            "6454  Bounced from her job, Erin Grant needs money i...      17.670   \n",
            "518   Determined to prove herself, Officer Judy Hopp...     102.553   \n",
            "\n",
            "     Vote_Count Vote_Average Original_Language  \\\n",
            "9135        120          7.3                ko   \n",
            "4252       1321          6.9                en   \n",
            "3662        195          8.7                ja   \n",
            "6454        845          5.6                en   \n",
            "518       13728          7.7                en   \n",
            "\n",
            "                                     Genre  \\\n",
            "9135                      Action, Thriller   \n",
            "4252                       Romance, Comedy   \n",
            "3662    Animation, Fantasy, Romance, Drama   \n",
            "6454                  Comedy, Crime, Drama   \n",
            "518   Animation, Adventure, Family, Comedy   \n",
            "\n",
            "                                             Poster_Url  \n",
            "9135  https://image.tmdb.org/t/p/original/zCXpkcMAUx...  \n",
            "4252  https://image.tmdb.org/t/p/original/qNGO3ETcNw...  \n",
            "3662  https://image.tmdb.org/t/p/original/bajajkoErD...  \n",
            "6454  https://image.tmdb.org/t/p/original/4zMy6R7aco...  \n",
            "518   https://image.tmdb.org/t/p/original/hlK0e0wAQ3...  \n"
          ]
        }
      ]
    },
    {
      "cell_type": "code",
      "source": [
        "# a row of your choice:\n",
        "chosen_row = df.iloc[9]\n",
        "print(chosen_row)"
      ],
      "metadata": {
        "id": "ucmlINtddSeN",
        "colab": {
          "base_uri": "https://localhost:8080/"
        },
        "outputId": "80d99d9b-e2d8-4254-f4ed-c31e73418166"
      },
      "execution_count": 29,
      "outputs": [
        {
          "output_type": "stream",
          "name": "stdout",
          "text": [
            "Release_Date                                                2021-11-03\n",
            "Title                                                         Eternals\n",
            "Overview             The Eternals are a team of ancient aliens who ...\n",
            "Popularity                                                    1537.406\n",
            "Vote_Count                                                        4726\n",
            "Vote_Average                                                       7.2\n",
            "Original_Language                                                   en\n",
            "Genre                                                  Science Fiction\n",
            "Poster_Url           https://image.tmdb.org/t/p/original/zByhtBvX99...\n",
            "Name: 9, dtype: object\n"
          ]
        }
      ]
    },
    {
      "cell_type": "markdown",
      "source": [
        "# Data Cleaning"
      ],
      "metadata": {
        "id": "jzsC3jRXh7TK"
      }
    },
    {
      "cell_type": "markdown",
      "source": [
        "### Are there null values ?"
      ],
      "metadata": {
        "id": "rQJ_iXKRdT8I"
      }
    },
    {
      "cell_type": "code",
      "source": [
        "null_cntr = df.isnull().sum()\n",
        "print(null_cntr)"
      ],
      "metadata": {
        "id": "c-NeE_NhdTf0",
        "colab": {
          "base_uri": "https://localhost:8080/"
        },
        "outputId": "4f471fc8-1d4e-433c-f809-951a46692a63"
      },
      "execution_count": 28,
      "outputs": [
        {
          "output_type": "stream",
          "name": "stdout",
          "text": [
            "Release_Date          0\n",
            "Title                 9\n",
            "Overview              9\n",
            "Popularity           10\n",
            "Vote_Count           10\n",
            "Vote_Average         10\n",
            "Original_Language    10\n",
            "Genre                11\n",
            "Poster_Url           11\n",
            "dtype: int64\n"
          ]
        }
      ]
    },
    {
      "cell_type": "code",
      "source": [],
      "metadata": {
        "id": "fJoEXVuYdoD0"
      },
      "execution_count": null,
      "outputs": []
    },
    {
      "cell_type": "markdown",
      "source": [
        "### What about duplicates?"
      ],
      "metadata": {
        "id": "UP9DmPcJdfDq"
      }
    },
    {
      "cell_type": "code",
      "source": [
        "number_of_duplicated = df.duplicated().sum()\n",
        "print(number_of_duplicated)"
      ],
      "metadata": {
        "id": "lPevo-vqdeuq",
        "colab": {
          "base_uri": "https://localhost:8080/"
        },
        "outputId": "6bfdcaaf-a080-4e09-9146-4279a9559795"
      },
      "execution_count": 30,
      "outputs": [
        {
          "output_type": "stream",
          "name": "stdout",
          "text": [
            "0\n"
          ]
        }
      ]
    },
    {
      "cell_type": "code",
      "source": [],
      "metadata": {
        "id": "87O1IF59dotO"
      },
      "execution_count": null,
      "outputs": []
    },
    {
      "cell_type": "markdown",
      "source": [
        "### => Let's check if there are duplicates in the 'Title' column.\n",
        "### Why do you think that happens? Would you remove or keep them? Explain why.\n"
      ],
      "metadata": {
        "id": "OpO7k5nPdpf9"
      }
    },
    {
      "cell_type": "code",
      "source": [
        "dup_title_series = df['Title'].value_counts()\n",
        "dup_titles = dup_title_series[dup_title_series > 1]\n",
        "print(\"\\nTitles appearing multiple times:\")\n",
        "print(dup_titles)"
      ],
      "metadata": {
        "id": "1uDxunxghaDp",
        "colab": {
          "base_uri": "https://localhost:8080/"
        },
        "outputId": "009dd0c5-73e0-48d9-e06c-f4cd72fa4a67"
      },
      "execution_count": 31,
      "outputs": [
        {
          "output_type": "stream",
          "name": "stdout",
          "text": [
            "\n",
            "Titles appearing multiple times:\n",
            "Title\n",
            "Beauty and the Beast             4\n",
            "Alice in Wonderland              4\n",
            "The Jungle Book                  3\n",
            "Godzilla                         3\n",
            "Euphoria                         3\n",
            "                                ..\n",
            "The Whole Truth                  2\n",
            "Beowulf                          2\n",
            "The Day the Earth Stood Still    2\n",
            "Leviathan                        2\n",
            "Down                             2\n",
            "Name: count, Length: 288, dtype: int64\n"
          ]
        }
      ]
    },
    {
      "cell_type": "markdown",
      "source": [
        "### Remove the columns you think they arn't important"
      ],
      "metadata": {
        "id": "fmU5PU9hhwft"
      }
    },
    {
      "cell_type": "code",
      "source": [
        "# keep titles different years are distinct records"
      ],
      "metadata": {
        "id": "YsUxZe3VhwCK"
      },
      "execution_count": null,
      "outputs": []
    },
    {
      "cell_type": "code",
      "source": [
        "# remove unimportant titles:\n",
        "df_cleaned = df.drop_duplicates()"
      ],
      "metadata": {
        "id": "2-uDXNcgiRy0"
      },
      "execution_count": 32,
      "outputs": []
    },
    {
      "cell_type": "markdown",
      "source": [
        "### What about the 'Realse_Year' column? , check the data type of it and handle this column ."
      ],
      "metadata": {
        "id": "w5uHyBM0iSfN"
      }
    },
    {
      "cell_type": "code",
      "source": [],
      "metadata": {
        "id": "w7jBiQgniom4",
        "colab": {
          "base_uri": "https://localhost:8080/",
          "height": 572
        },
        "outputId": "795c9209-4490-4e7c-bb83-45581233c8e5"
      },
      "execution_count": 35,
      "outputs": [
        {
          "output_type": "error",
          "ename": "KeyError",
          "evalue": "'Realse_Year'",
          "traceback": [
            "\u001b[0;31m---------------------------------------------------------------------------\u001b[0m",
            "\u001b[0;31mKeyError\u001b[0m                                  Traceback (most recent call last)",
            "\u001b[0;32m/usr/local/lib/python3.11/dist-packages/pandas/core/indexes/base.py\u001b[0m in \u001b[0;36mget_loc\u001b[0;34m(self, key)\u001b[0m\n\u001b[1;32m   3804\u001b[0m         \u001b[0;32mtry\u001b[0m\u001b[0;34m:\u001b[0m\u001b[0;34m\u001b[0m\u001b[0;34m\u001b[0m\u001b[0m\n\u001b[0;32m-> 3805\u001b[0;31m             \u001b[0;32mreturn\u001b[0m \u001b[0mself\u001b[0m\u001b[0;34m.\u001b[0m\u001b[0m_engine\u001b[0m\u001b[0;34m.\u001b[0m\u001b[0mget_loc\u001b[0m\u001b[0;34m(\u001b[0m\u001b[0mcasted_key\u001b[0m\u001b[0;34m)\u001b[0m\u001b[0;34m\u001b[0m\u001b[0;34m\u001b[0m\u001b[0m\n\u001b[0m\u001b[1;32m   3806\u001b[0m         \u001b[0;32mexcept\u001b[0m \u001b[0mKeyError\u001b[0m \u001b[0;32mas\u001b[0m \u001b[0merr\u001b[0m\u001b[0;34m:\u001b[0m\u001b[0;34m\u001b[0m\u001b[0;34m\u001b[0m\u001b[0m\n",
            "\u001b[0;32mindex.pyx\u001b[0m in \u001b[0;36mpandas._libs.index.IndexEngine.get_loc\u001b[0;34m()\u001b[0m\n",
            "\u001b[0;32mindex.pyx\u001b[0m in \u001b[0;36mpandas._libs.index.IndexEngine.get_loc\u001b[0;34m()\u001b[0m\n",
            "\u001b[0;32mpandas/_libs/hashtable_class_helper.pxi\u001b[0m in \u001b[0;36mpandas._libs.hashtable.PyObjectHashTable.get_item\u001b[0;34m()\u001b[0m\n",
            "\u001b[0;32mpandas/_libs/hashtable_class_helper.pxi\u001b[0m in \u001b[0;36mpandas._libs.hashtable.PyObjectHashTable.get_item\u001b[0;34m()\u001b[0m\n",
            "\u001b[0;31mKeyError\u001b[0m: 'Realse_Year'",
            "\nThe above exception was the direct cause of the following exception:\n",
            "\u001b[0;31mKeyError\u001b[0m                                  Traceback (most recent call last)",
            "\u001b[0;32m<ipython-input-35-035ff6e7d9f5>\u001b[0m in \u001b[0;36m<cell line: 0>\u001b[0;34m()\u001b[0m\n\u001b[1;32m      1\u001b[0m \u001b[0;31m# Convert strings to numeric\u001b[0m\u001b[0;34m\u001b[0m\u001b[0;34m\u001b[0m\u001b[0m\n\u001b[0;32m----> 2\u001b[0;31m \u001b[0mdf\u001b[0m\u001b[0;34m[\u001b[0m\u001b[0;34m'Realse_Year'\u001b[0m\u001b[0;34m]\u001b[0m \u001b[0;34m=\u001b[0m \u001b[0mpd\u001b[0m\u001b[0;34m.\u001b[0m\u001b[0mto_numeric\u001b[0m\u001b[0;34m(\u001b[0m\u001b[0mdf\u001b[0m\u001b[0;34m[\u001b[0m\u001b[0;34m'Realse_Year'\u001b[0m\u001b[0;34m]\u001b[0m\u001b[0;34m,\u001b[0m \u001b[0merrors\u001b[0m\u001b[0;34m=\u001b[0m\u001b[0;34m'coerce'\u001b[0m\u001b[0;34m)\u001b[0m\u001b[0;34m.\u001b[0m\u001b[0mastype\u001b[0m\u001b[0;34m(\u001b[0m\u001b[0;34m'Int64'\u001b[0m\u001b[0;34m)\u001b[0m\u001b[0;34m\u001b[0m\u001b[0;34m\u001b[0m\u001b[0m\n\u001b[0m",
            "\u001b[0;32m/usr/local/lib/python3.11/dist-packages/pandas/core/frame.py\u001b[0m in \u001b[0;36m__getitem__\u001b[0;34m(self, key)\u001b[0m\n\u001b[1;32m   4100\u001b[0m             \u001b[0;32mif\u001b[0m \u001b[0mself\u001b[0m\u001b[0;34m.\u001b[0m\u001b[0mcolumns\u001b[0m\u001b[0;34m.\u001b[0m\u001b[0mnlevels\u001b[0m \u001b[0;34m>\u001b[0m \u001b[0;36m1\u001b[0m\u001b[0;34m:\u001b[0m\u001b[0;34m\u001b[0m\u001b[0;34m\u001b[0m\u001b[0m\n\u001b[1;32m   4101\u001b[0m                 \u001b[0;32mreturn\u001b[0m \u001b[0mself\u001b[0m\u001b[0;34m.\u001b[0m\u001b[0m_getitem_multilevel\u001b[0m\u001b[0;34m(\u001b[0m\u001b[0mkey\u001b[0m\u001b[0;34m)\u001b[0m\u001b[0;34m\u001b[0m\u001b[0;34m\u001b[0m\u001b[0m\n\u001b[0;32m-> 4102\u001b[0;31m             \u001b[0mindexer\u001b[0m \u001b[0;34m=\u001b[0m \u001b[0mself\u001b[0m\u001b[0;34m.\u001b[0m\u001b[0mcolumns\u001b[0m\u001b[0;34m.\u001b[0m\u001b[0mget_loc\u001b[0m\u001b[0;34m(\u001b[0m\u001b[0mkey\u001b[0m\u001b[0;34m)\u001b[0m\u001b[0;34m\u001b[0m\u001b[0;34m\u001b[0m\u001b[0m\n\u001b[0m\u001b[1;32m   4103\u001b[0m             \u001b[0;32mif\u001b[0m \u001b[0mis_integer\u001b[0m\u001b[0;34m(\u001b[0m\u001b[0mindexer\u001b[0m\u001b[0;34m)\u001b[0m\u001b[0;34m:\u001b[0m\u001b[0;34m\u001b[0m\u001b[0;34m\u001b[0m\u001b[0m\n\u001b[1;32m   4104\u001b[0m                 \u001b[0mindexer\u001b[0m \u001b[0;34m=\u001b[0m \u001b[0;34m[\u001b[0m\u001b[0mindexer\u001b[0m\u001b[0;34m]\u001b[0m\u001b[0;34m\u001b[0m\u001b[0;34m\u001b[0m\u001b[0m\n",
            "\u001b[0;32m/usr/local/lib/python3.11/dist-packages/pandas/core/indexes/base.py\u001b[0m in \u001b[0;36mget_loc\u001b[0;34m(self, key)\u001b[0m\n\u001b[1;32m   3810\u001b[0m             ):\n\u001b[1;32m   3811\u001b[0m                 \u001b[0;32mraise\u001b[0m \u001b[0mInvalidIndexError\u001b[0m\u001b[0;34m(\u001b[0m\u001b[0mkey\u001b[0m\u001b[0;34m)\u001b[0m\u001b[0;34m\u001b[0m\u001b[0;34m\u001b[0m\u001b[0m\n\u001b[0;32m-> 3812\u001b[0;31m             \u001b[0;32mraise\u001b[0m \u001b[0mKeyError\u001b[0m\u001b[0;34m(\u001b[0m\u001b[0mkey\u001b[0m\u001b[0;34m)\u001b[0m \u001b[0;32mfrom\u001b[0m \u001b[0merr\u001b[0m\u001b[0;34m\u001b[0m\u001b[0;34m\u001b[0m\u001b[0m\n\u001b[0m\u001b[1;32m   3813\u001b[0m         \u001b[0;32mexcept\u001b[0m \u001b[0mTypeError\u001b[0m\u001b[0;34m:\u001b[0m\u001b[0;34m\u001b[0m\u001b[0;34m\u001b[0m\u001b[0m\n\u001b[1;32m   3814\u001b[0m             \u001b[0;31m# If we have a listlike key, _check_indexing_error will raise\u001b[0m\u001b[0;34m\u001b[0m\u001b[0;34m\u001b[0m\u001b[0m\n",
            "\u001b[0;31mKeyError\u001b[0m: 'Realse_Year'"
          ]
        }
      ]
    },
    {
      "cell_type": "code",
      "source": [],
      "metadata": {
        "id": "3WbExxS7itGX"
      },
      "execution_count": null,
      "outputs": []
    },
    {
      "cell_type": "markdown",
      "source": [
        "# Data Visualizations"
      ],
      "metadata": {
        "id": "17rmI4xnitlv"
      }
    },
    {
      "cell_type": "markdown",
      "source": [
        "## I'll now provide a set of questions.\n",
        "## Please answer each one using visualizations where appropriate and write your answer and insights after that.\n"
      ],
      "metadata": {
        "id": "yWAEj0Abi0bw"
      }
    },
    {
      "cell_type": "markdown",
      "source": [
        "1. What is the movie with the highest popularity rate ? and what is the kind of it ?"
      ],
      "metadata": {
        "id": "7bmMsv7ckV4V"
      }
    },
    {
      "cell_type": "code",
      "source": [
        "top = df.loc[df['Popularity'].idxmax(), ['Title', 'Genre', 'Popularity']]\n",
        "print(f\"Most popular movie: {top['Title']}  (Popularity: {top['Popularity']:.2f})\")\n",
        "print(f\"Genre(s): {top['Genre']}\")"
      ],
      "metadata": {
        "id": "RH4r8LmtizxH",
        "colab": {
          "base_uri": "https://localhost:8080/"
        },
        "outputId": "0489e3b9-4631-4eab-d9d7-5141cb03d02a"
      },
      "execution_count": 36,
      "outputs": [
        {
          "output_type": "stream",
          "name": "stdout",
          "text": [
            "Most popular movie: Spider-Man: No Way Home  (Popularity: 5083.95)\n",
            "Genre(s): Action, Adventure, Science Fiction\n"
          ]
        }
      ]
    },
    {
      "cell_type": "markdown",
      "source": [
        "2. which year the largest number of films produced ?"
      ],
      "metadata": {
        "id": "i6Qe5kSjkwl-"
      }
    },
    {
      "cell_type": "code",
      "source": [
        "df['Release_Year'] = pd.to_datetime(df['Release_Date'], errors='coerce').dt.year\n",
        "year_counts = df['Release_Year'].value_counts().sort_values(ascending=False)\n",
        "\n",
        "best_year = year_counts.idxmax()\n",
        "print(f\"Year with most releases: {int(best_year)}  ({year_counts.max()} films)\")\n",
        "\n",
        "top5_years = year_counts.head(5).sort_index()\n",
        "plt.figure(figsize=(8,4))\n",
        "plt.bar(top5_years.index.astype(int), top5_years.values)\n",
        "plt.xlabel('Year')\n",
        "plt.ylabel('Number of Releases')\n",
        "plt.title('Top 5 Years by Film Production')\n",
        "plt.tight_layout()\n",
        "plt.show()\n"
      ],
      "metadata": {
        "id": "ZEr1bTSNkzu0",
        "colab": {
          "base_uri": "https://localhost:8080/",
          "height": 425
        },
        "outputId": "95abbd76-1bcb-4880-c876-1711c6896f02"
      },
      "execution_count": 37,
      "outputs": [
        {
          "output_type": "stream",
          "name": "stdout",
          "text": [
            "Year with most releases: 2021  (714 films)\n"
          ]
        },
        {
          "output_type": "display_data",
          "data": {
            "text/plain": [
              "<Figure size 800x400 with 1 Axes>"
            ],
            "image/png": "[encoded data removed]"
          },
          "metadata": {}
        }
      ]
    },
    {
      "cell_type": "markdown",
      "source": [
        "3. what is the most of film genere ?"
      ],
      "metadata": {
        "id": "iuZsSoabk4v7"
      }
    },
    {
      "cell_type": "code",
      "source": [
        "df_exp = df.assign(Genre=df['Genre'].str.split('|')).explode('Genre')\n",
        "\n",
        "genre_counts = df_exp['Genre'].value_counts()\n",
        "print(f\"Most common genre: {genre_counts.idxmax()} ({genre_counts.max()} films)\")\n",
        "\n",
        "plt.figure(figsize=(8,4))\n",
        "genre_counts.head(10).plot(kind='bar')\n",
        "plt.ylabel('Count')\n",
        "plt.title('Top 10 Genres by Number of Films')\n",
        "plt.tight_layout()\n",
        "plt.show()\n"
      ],
      "metadata": {
        "id": "P7XzZosgk8PE",
        "colab": {
          "base_uri": "https://localhost:8080/",
          "height": 425
        },
        "outputId": "b79bc01f-f87d-4c71-ae5b-b2b3de1611a1"
      },
      "execution_count": 38,
      "outputs": [
        {
          "output_type": "stream",
          "name": "stdout",
          "text": [
            "Most common genre: Drama  (466 films)\n"
          ]
        },
        {
          "output_type": "display_data",
          "data": {
            "text/plain": [
              "<Figure size 800x400 with 1 Axes>"
            ],
            "image/png": "[encoded data removed]"
          },
          "metadata": {}
        }
      ]
    },
    {
      "cell_type": "markdown",
      "source": [
        "4. what kind of movies take the highest rating ?"
      ],
      "metadata": {
        "id": "ZQ1tX1iKlEOG"
      }
    },
    {
      "cell_type": "code",
      "source": [],
      "metadata": {
        "id": "j0mKq3nklG-u"
      },
      "execution_count": null,
      "outputs": []
    },
    {
      "cell_type": "markdown",
      "source": [
        "5. which movie is more popular ? and which movie is less popular ?"
      ],
      "metadata": {
        "id": "FVfJinp_lH_7"
      }
    },
    {
      "cell_type": "code",
      "source": [
        "most = df.loc[df['Popularity'].idxmax(), ['Title','Popularity']]\n",
        "\n",
        "\n",
        "print(f\"Most popular:  {most['Title']}  ({most['Popularity']:.2f})\")\n",
        "\n"
      ],
      "metadata": {
        "id": "FL5ujQbZlKIZ",
        "colab": {
          "base_uri": "https://localhost:8080/"
        },
        "outputId": "843a54b1-d398-4841-a59c-3e083a8581a1"
      },
      "execution_count": 43,
      "outputs": [
        {
          "output_type": "stream",
          "name": "stdout",
          "text": [
            "Most popular:  Spider-Man: No Way Home  (5083.95)\n"
          ]
        }
      ]
    },
    {
      "cell_type": "code",
      "source": [
        "least = df.loc[df['Popularity'].idxmin(), ['Title','Popularity']]\n",
        "print(f\"Least popular: {least['Title']}  ({least['Popularity']:.2f})\")"
      ],
      "metadata": {
        "id": "HY6-vXW-rrrh",
        "colab": {
          "base_uri": "https://localhost:8080/"
        },
        "outputId": "18c139cb-2743-493a-cfcf-bfb88e47421a"
      },
      "execution_count": 44,
      "outputs": [
        {
          "output_type": "stream",
          "name": "stdout",
          "text": [
            "Least popular: 61.328  (7.10)\n"
          ]
        }
      ]
    },
    {
      "cell_type": "markdown",
      "source": [
        "#Note : \"You are free to make any other visualizations you want and answer as many questions as you can, it’s only up to your imagination\""
      ],
      "metadata": {
        "id": "BNJZWCgorvej"
      }
    },
    {
      "cell_type": "markdown",
      "source": [
        "## Wrap up with your conclusion and a quick summary of the data insights."
      ],
      "metadata": {
        "id": "QqajaEIRlK0o"
      }
    },
    {
      "cell_type": "code",
      "source": [],
      "metadata": {
        "id": "z6B4x9LOl-dz"
      },
      "execution_count": null,
      "outputs": []
    },
    {
      "cell_type": "markdown",
      "source": [
        "## Good Luck \")"
      ],
      "metadata": {
        "id": "BJB16taomAWU"
      }
    }
  ]
}