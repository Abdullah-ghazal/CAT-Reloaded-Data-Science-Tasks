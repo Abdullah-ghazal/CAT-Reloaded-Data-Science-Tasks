{
  "cells": [
    {
      "cell_type": "markdown",
      "metadata": {
        "id": "wIGSMPR9Mu65"
      },
      "source": [
        "# Hi CATians"
      ]
    },
    {
      "cell_type": "markdown",
      "metadata": {
        "id": "7BY406RONmPH"
      },
      "source": [
        "## Complete the week4 on statistics course  \n",
        "[Introduction to statistics](https://app.datacamp.com/learn/courses/introduction-to-statistics)"
      ]
    },
    {
      "cell_type": "markdown",
      "metadata": {
        "id": "JKMKAHLiOjWL"
      },
      "source": [
        "## Upload your certificate after completing the Statistics course on DataCamp.\n",
        "(Bonus if you share it on LinkedIn and drop the link here!)"
      ]
    },
    {
      "cell_type": "code",
      "execution_count": null,
      "metadata": {
        "id": "EdvOz31IOp2N"
      },
      "outputs": [],
      "source": [
        "https://github.com/Abdullah-ghazal/CAT-Reloaded-Data-Science-Tasks/blob/main/Week(4)/Introduction%20to%20statistics%20Certificate.pdf"
      ]
    },
    {
      "cell_type": "markdown",
      "metadata": {
        "id": "knLR8DW9Orj9"
      },
      "source": [
        "## Time for some problem solving! \")\n",
        "(It’s easier than you think — just keep trying and don’t give up!)"
      ]
    },
    {
      "cell_type": "markdown",
      "metadata": {
        "id": "Ah_0cw1wQX6A"
      },
      "source": [
        "#### note : ( i need only the submission link )"
      ]
    },
    {
      "cell_type": "markdown",
      "metadata": {
        "id": "6WmrXIVYPhgk"
      },
      "source": [
        "[First problem (it is so easy)](https://leetcode.com/problems/two-sum/description/)"
      ]
    },
    {
      "cell_type": "code",
      "execution_count": null,
      "metadata": {
        "id": "aUzeomQVO7SY"
      },
      "outputs": [],
      "source": [
        "https://leetcode.com/problems/two-sum/submissions/1621967372"
      ]
    },
    {
      "cell_type": "markdown",
      "metadata": {
        "id": "HSAJizvnQzoo"
      },
      "source": [
        "[Second problem ](https://leetcode.com/problems/number-of-good-pairs/description/)"
      ]
    },
    {
      "cell_type": "code",
      "execution_count": null,
      "metadata": {
        "id": "4o0F4I9FRHv-"
      },
      "outputs": [],
      "source": [
        "https://leetcode.com/problems/number-of-good-pairs/submissions/1621986596"
      ]
    },
    {
      "cell_type": "markdown",
      "metadata": {
        "id": "ujGLSaagRJBR"
      },
      "source": [
        "# Good luck !"
      ]
    }
  ],
  "metadata": {
    "colab": {
      "provenance": []
    },
    "kernelspec": {
      "display_name": "Python 3",
      "name": "python3"
    },
    "language_info": {
      "name": "python"
    }
  },
  "nbformat": 4,
  "nbformat_minor": 0
}
